{
 "cells": [
  {
   "cell_type": "markdown",
   "id": "27a78b17",
   "metadata": {},
   "source": [
    "# Import Brightway libraries"
   ]
  },
  {
   "cell_type": "code",
   "execution_count": null,
   "id": "4f26865e",
   "metadata": {},
   "outputs": [],
   "source": [
    "import bw2io as bi\n",
    "import bw2data as bd\n",
    "import bw2calc as bc\n",
    "from functools import partial"
   ]
  },
  {
   "cell_type": "markdown",
   "id": "e600a3e2",
   "metadata": {},
   "source": [
    "# Restore ecoinvent 3.8 project"
   ]
  },
  {
   "cell_type": "code",
   "execution_count": null,
   "id": "7e94482e-6571-4520-87bd-93181c35b031",
   "metadata": {},
   "outputs": [],
   "source": [
    "import bw2io as bi\n",
    "bi.restore_project_directory(\"/srv/data/projects/ecoinvent38.tar.gz\")"
   ]
  },
  {
   "cell_type": "code",
   "execution_count": null,
   "id": "c2fb06dd",
   "metadata": {},
   "outputs": [],
   "source": [
    "bd.projects.set_current(\"bw2_class_import_example\")"
   ]
  },
  {
   "cell_type": "code",
   "execution_count": null,
   "id": "de99fd31-aa07-42a1-be0b-ee3204dc0dbc",
   "metadata": {},
   "outputs": [],
   "source": [
    "bd.databases"
   ]
  },
  {
   "cell_type": "markdown",
   "id": "3d3f87de",
   "metadata": {},
   "source": [
    "# Provide method metadata"
   ]
  },
  {
   "cell_type": "code",
   "execution_count": null,
   "id": "2d3eb47a",
   "metadata": {},
   "outputs": [],
   "source": [
    "DESCRIPTION=(\"A midpoint-level mineral resource impact assessment method matching this perspective is proposed, \"\n",
    "             \"called the crustal scarcity indicator (CSI), with characterization factors called crustal scarcity \"\n",
    "             \"potentials (CSPs) measured as kg silicon equivalents per kg element. They are based on crustal \"\n",
    "             \"concentrations, which have been suggested to correlate with several important resource metrics \"\n",
    "             \"(reserves, reserve base, reserves plus cumulative production, and ore deposits), thereby constituting \"\n",
    "             \"proxies for long-term global elemental scarcity.\")"
   ]
  },
  {
   "cell_type": "markdown",
   "id": "201e18f3",
   "metadata": {},
   "source": [
    "You can download the file `CSI_CF.xlsx` from [github](https://github.com/brightway-lca/brightway2/raw/master/notebooks/CSI_CF.xlsx) if you need it (if you cloned the Git repo it is there already)."
   ]
  },
  {
   "cell_type": "code",
   "execution_count": null,
   "id": "868ffb54",
   "metadata": {},
   "outputs": [],
   "source": [
    "ei = bi.ExcelLCIAImporter(\n",
    "    filepath=\"files/CSI_CF.xlsx\", \n",
    "    name=(\"Crustal Scarcity Index\", \"1.0\"), \n",
    "    description=DESCRIPTION, \n",
    "    unit=\"kilogram Silicon equivalent\",\n",
    "    # Can add any additional metadata\n",
    "    article_url=\"https://link.springer.com/article/10.1007%2Fs11367-020-01781-1\",\n",
    "    doi=\"https://doi.org/10.1007/s11367-020-01781-1\",\n",
    "    authors=\"Rickard Arvidsson, Maria Ljunggren Söderman, Björn A. Sandén, Anders Nordelöf, Hampus André, Anne-Marie Tillman\",\n",
    ")"
   ]
  },
  {
   "cell_type": "markdown",
   "id": "308cb492",
   "metadata": {},
   "source": [
    "# Data cleanup\n",
    "\n",
    "## Step 1: Remove empty lines\n",
    "\n",
    "Because of the way the Excel works, lines you touch but are still empty can be considered part of the worksheet. We remove these."
   ]
  },
  {
   "cell_type": "code",
   "execution_count": null,
   "id": "8b0f5d5d",
   "metadata": {},
   "outputs": [],
   "source": [
    "[cf for cf in ei.data[0]['exchanges'] if not cf['Flow']]"
   ]
  },
  {
   "cell_type": "code",
   "execution_count": null,
   "id": "76c90359",
   "metadata": {},
   "outputs": [],
   "source": [
    "def drop_empty_lines(data):\n",
    "    for method in data:\n",
    "        method['exchanges'] = [obj for obj in method['exchanges'] if obj['Flow']]\n",
    "    return data    "
   ]
  },
  {
   "cell_type": "code",
   "execution_count": null,
   "id": "f6bb6663",
   "metadata": {},
   "outputs": [],
   "source": [
    "ei.apply_strategy(drop_empty_lines)"
   ]
  },
  {
   "cell_type": "markdown",
   "id": "9d088c5f",
   "metadata": {},
   "source": [
    "## Step 2: Change `Flow` to `name`, 'Chracterization Factor' to 'amount'\n",
    "\n",
    "We need to match the `name` in the CF to the `name` in the biosphere database."
   ]
  },
  {
   "cell_type": "code",
   "execution_count": null,
   "id": "d3b9c115",
   "metadata": {},
   "outputs": [],
   "source": [
    "def rename_flow(data):\n",
    "    for method in data:\n",
    "        for cf in method['exchanges']:\n",
    "            cf['name'] = cf.pop('Flow')\n",
    "            cf['amount'] = cf.pop('Chracterization Factor')\n",
    "    return data"
   ]
  },
  {
   "cell_type": "code",
   "execution_count": null,
   "id": "5712df69",
   "metadata": {},
   "outputs": [],
   "source": [
    "ei.apply_strategy(rename_flow)"
   ]
  },
  {
   "cell_type": "markdown",
   "id": "643ea101",
   "metadata": {},
   "source": [
    "## Step 3: Change category to ecoinvent standard\n",
    "\n",
    "CSI input data uses `Resource`, but ecoinvent data uses `natural resource`."
   ]
  },
  {
   "cell_type": "code",
   "execution_count": null,
   "id": "15617586",
   "metadata": {},
   "outputs": [],
   "source": [
    "def rename_resource_category(data):\n",
    "    for method in data:\n",
    "        for cf in method['exchanges']:\n",
    "            if cf['Category'] == 'Resource':\n",
    "                cf['Category'] = 'natural resource'\n",
    "    return data"
   ]
  },
  {
   "cell_type": "code",
   "execution_count": null,
   "id": "fd4a54f7",
   "metadata": {},
   "outputs": [],
   "source": [
    "ei.apply_strategy(rename_resource_category)"
   ]
  },
  {
   "cell_type": "markdown",
   "id": "0571c652",
   "metadata": {},
   "source": [
    "## Step 4: Create tuple of `categories`\n",
    "\n",
    "Brightway support a [tuple](https://en.wikipedia.org/wiki/Tuple) of categories of arbitrary length, while CSI uses length 1 or 2. Length 1 uses `undefined` as a dummy parameter. We convert the fields `Category` and `Sub category` to a tuple of uniform style, without dummy parameters."
   ]
  },
  {
   "cell_type": "code",
   "execution_count": null,
   "id": "1ba2caea",
   "metadata": {},
   "outputs": [],
   "source": [
    "def create_categories_as_tuple(data):\n",
    "    for method in data:\n",
    "        for cf in method['exchanges']:\n",
    "            if cf['Sub category'] == 'unspecified':\n",
    "                cf['categories'] = (cf['Category'],)\n",
    "            else:\n",
    "                cf['categories'] = (cf['Category'], cf['Sub category'])\n",
    "    return data"
   ]
  },
  {
   "cell_type": "code",
   "execution_count": null,
   "id": "77793c74",
   "metadata": {},
   "outputs": [],
   "source": [
    "ei.apply_strategy(create_categories_as_tuple)"
   ]
  },
  {
   "cell_type": "markdown",
   "id": "a98ee047",
   "metadata": {},
   "source": [
    "# Run the normal strategies\n",
    "\n",
    "This includes linking against the ecoinvent biosphere database."
   ]
  },
  {
   "cell_type": "code",
   "execution_count": null,
   "id": "f08b5fbd",
   "metadata": {},
   "outputs": [],
   "source": [
    "ei.apply_strategies()"
   ]
  },
  {
   "cell_type": "markdown",
   "id": "52a7e881",
   "metadata": {},
   "source": [
    "Check our results."
   ]
  },
  {
   "cell_type": "code",
   "execution_count": null,
   "id": "910150e8",
   "metadata": {},
   "outputs": [],
   "source": [
    "ei.statistics()"
   ]
  },
  {
   "cell_type": "markdown",
   "id": "17418aa6",
   "metadata": {},
   "source": [
    "Not great. As with all IO operations, we now enter an iterative improvement period...\n",
    "\n",
    "# Iterative improvement\n",
    "\n",
    "## Step 1: Name discrepancies\n",
    "\n",
    "First, we notice that there are some name discrepancies. Namely, CSI provides reasonable names:"
   ]
  },
  {
   "cell_type": "code",
   "execution_count": null,
   "id": "cc99a239",
   "metadata": {},
   "outputs": [],
   "source": [
    "[x for x in ei.data[0]['exchanges'] if x['name'] == 'Copper, 0.59% in sulfide, Cu 0.22% and Mo 8.2E-3% in crude ore']"
   ]
  },
  {
   "cell_type": "markdown",
   "id": "5eb47af8",
   "metadata": {},
   "source": [
    "But ecoinvent does something weird:"
   ]
  },
  {
   "cell_type": "code",
   "execution_count": null,
   "id": "026594c8",
   "metadata": {},
   "outputs": [],
   "source": [
    "[x \n",
    " for x in bd.Database(bd.config.biosphere) \n",
    " if 'Copper, 0.59% in sulfide, Cu 0.22% and Mo 8.2E-3% in crude ore' in x['name'] \n",
    " and x['categories'][0] == 'natural resource']"
   ]
  },
  {
   "cell_type": "markdown",
   "id": "0218509e",
   "metadata": {},
   "source": [
    "It is subtle, but for some reason ecoinvent adds the suffix **`, in ground`**, even though we know that as the category is `in ground`.\n",
    "\n",
    "We also notice a mismatch here: The `categories` don't match. CSI doesn't have a CF for `('natural resource', 'in ground')`, while ecoinvent doesn't have a flow for `('natural resource',)`.\n",
    "\n",
    "We will need two strategies to fix these two issues."
   ]
  },
  {
   "cell_type": "code",
   "execution_count": null,
   "id": "406c00cb",
   "metadata": {},
   "outputs": [],
   "source": [
    "def add_in_ground_if_helpful(data):\n",
    "    biosphere = {o['name'] \n",
    "                 for o in bd.Database(bd.config.biosphere) \n",
    "                 if o['categories'][0] == 'natural resource'}\n",
    "    \n",
    "    for method in data:\n",
    "        for cf in method['exchanges']:\n",
    "            if not cf.get('input'):  # Skip already linked CFs\n",
    "                if cf['name'] not in biosphere and cf['name'] + \", in ground\" in biosphere:\n",
    "                    cf['name'] += \", in ground\"\n",
    "    \n",
    "    return data"
   ]
  },
  {
   "cell_type": "code",
   "execution_count": null,
   "id": "cfa5ed7f",
   "metadata": {},
   "outputs": [],
   "source": [
    "ei.apply_strategy(add_in_ground_if_helpful)"
   ]
  },
  {
   "cell_type": "code",
   "execution_count": null,
   "id": "c3c4e091",
   "metadata": {},
   "outputs": [],
   "source": [
    "def change_categories_if_helpful(data):\n",
    "    biosphere = {(o['name'], tuple(o['categories'])) for o in bd.Database(bd.config.biosphere)}\n",
    "    \n",
    "    for method in data:\n",
    "        for cf in method['exchanges']:\n",
    "            if cf.get('input'):  # Skip already linked CFs\n",
    "                continue\n",
    "            if (\n",
    "                    (cf['name'], cf['categories']) not in biosphere \n",
    "                    and (cf['name'], cf['categories'] + (\"in ground\",)) in biosphere\n",
    "                ):\n",
    "                cf['categories'] = cf['categories'] + (\"in ground\",)\n",
    "    \n",
    "    return data    "
   ]
  },
  {
   "cell_type": "code",
   "execution_count": null,
   "id": "ad4aaf51",
   "metadata": {},
   "outputs": [],
   "source": [
    "ei.apply_strategy(change_categories_if_helpful)"
   ]
  },
  {
   "cell_type": "markdown",
   "id": "0bea1789",
   "metadata": {},
   "source": [
    "Try linking with our changes."
   ]
  },
  {
   "cell_type": "code",
   "execution_count": null,
   "id": "45809755",
   "metadata": {},
   "outputs": [],
   "source": [
    "ei.apply_strategy(partial(\n",
    "    bi.strategies.link_iterable_by_fields,\n",
    "    other=bd.Database(bd.config.biosphere),\n",
    "    kind=\"biosphere\",\n",
    "    fields=(\"name\", \"categories\"),\n",
    "))"
   ]
  },
  {
   "cell_type": "code",
   "execution_count": null,
   "id": "536a212d",
   "metadata": {},
   "outputs": [],
   "source": [
    "ei.statistics()"
   ]
  },
  {
   "cell_type": "markdown",
   "id": "d799c78f",
   "metadata": {},
   "source": [
    "## Step 2: Pain\n",
    "\n",
    "Ecoinvent has the following flows for copper:\n",
    "\n",
    "* Copper, 1.18% in sulfide, Cu 0.39% and Mo 8.2E-3% in crude ore, in ground\n",
    "* Copper, 1.25% in sulfide, Cu 0.24% and Zn 0,1% in crude ore, in ground\n",
    "* Copper, 1.42% in sulfide, Cu 0.81% and Mo 8.2E-3% in crude ore, in ground\n",
    "\n",
    "etc. Oh, and also:\n",
    "\n",
    "* Cu, Cu 5.2E-2%, Pt 4.8E-4%, Pd 2.0E-4%, Rh 2.4E-5%, Ni 3.7E-2% in ore, in ground\n",
    "\n",
    "<img src=\"files/consistency.png\">\n",
    "\n",
    "Let's see what the CST developers have and don't have:"
   ]
  },
  {
   "cell_type": "code",
   "execution_count": null,
   "id": "98b3fb04",
   "metadata": {},
   "outputs": [],
   "source": [
    "ei.write_excel(\"CSI\")"
   ]
  },
  {
   "cell_type": "markdown",
   "id": "fa10c09d",
   "metadata": {},
   "source": [
    "This file is also available [here](files/lcia-matching-CSI.xlsx).\n",
    "\n",
    "After checking these against the list of biosphere flows in ecoinvent 3.8, it looks like the CSI developers got everything! The missing flows only exist in SimaPro for compatibiltiy with other databases.\n",
    "\n",
    "BTW, if you want to see a more reasonable list of flows, check out https://github.com/USEPA/Federal-LCA-Commons-Elementary-Flow-List."
   ]
  },
  {
   "cell_type": "markdown",
   "id": "cc0d061a",
   "metadata": {},
   "source": [
    "## Step 3: Drop the missing CFs\n",
    "\n",
    "These are for flows not present in the \"clean\" version of ecoinvent, and so won't matter for our results."
   ]
  },
  {
   "cell_type": "code",
   "execution_count": null,
   "id": "16374f63",
   "metadata": {},
   "outputs": [],
   "source": [
    "ei.drop_unlinked(True)"
   ]
  },
  {
   "cell_type": "code",
   "execution_count": null,
   "id": "e7b1ac00",
   "metadata": {},
   "outputs": [],
   "source": [
    "ei.statistics()"
   ]
  },
  {
   "cell_type": "markdown",
   "id": "3803e686",
   "metadata": {},
   "source": [
    "## Step 4: Check to make sure we don't have duplicates\n",
    "\n",
    "Due to the way the [scipy sparse](https://docs.scipy.org/doc/scipy/reference/sparse.html) matrix constructors work, duplicate CFs would be summed during the construction of the characterization matrix. This would be bad :)"
   ]
  },
  {
   "cell_type": "code",
   "execution_count": null,
   "id": "0df19c3e",
   "metadata": {},
   "outputs": [],
   "source": [
    "len(ei.data[0]['exchanges']), len({tuple(o['input']) for o in ei.data[0]['exchanges']})"
   ]
  },
  {
   "cell_type": "markdown",
   "id": "201fe7b7",
   "metadata": {},
   "source": [
    "C'est pas bon... but at least easy to fix."
   ]
  },
  {
   "cell_type": "code",
   "execution_count": null,
   "id": "595d1574",
   "metadata": {},
   "outputs": [],
   "source": [
    "unique_exchanges = {tuple(o['input']): o for o in ei.data[0]['exchanges']}\n",
    "ei.data[0]['exchanges'] = list(unique_exchanges.values())"
   ]
  },
  {
   "cell_type": "code",
   "execution_count": null,
   "id": "7038e771",
   "metadata": {},
   "outputs": [],
   "source": [
    "ei.write_methods(overwrite=True)"
   ]
  },
  {
   "cell_type": "markdown",
   "id": "101bb665",
   "metadata": {},
   "source": [
    "# Check against reference values"
   ]
  },
  {
   "cell_type": "code",
   "execution_count": null,
   "id": "9b6bf764",
   "metadata": {},
   "outputs": [],
   "source": [
    "steel = next(x for x in bd.Database(\"ecoinvent 3.8 cutoff\") if x['name'] == 'market for steel, low-alloyed')\n",
    "steel"
   ]
  },
  {
   "cell_type": "code",
   "execution_count": null,
   "id": "0e6c7bc0",
   "metadata": {},
   "outputs": [],
   "source": [
    "REFERENCE = 433.46247"
   ]
  },
  {
   "cell_type": "code",
   "execution_count": null,
   "id": "cd0f338d",
   "metadata": {},
   "outputs": [],
   "source": [
    "lca = bc.LCA({steel: 1}, (\"Crustal Scarcity Index\", \"1.0\"))\n",
    "lca.lci()\n",
    "lca.lcia()\n",
    "print(lca.score / REFERENCE)"
   ]
  },
  {
   "cell_type": "code",
   "execution_count": null,
   "id": "07a25363",
   "metadata": {},
   "outputs": [],
   "source": [
    "copper = next(x for x in bd.Database(\"ecoinvent 3.8 cutoff\") if x['name'] == 'market for copper')  # carbonate, sulfate, anode\n",
    "copper"
   ]
  },
  {
   "cell_type": "code",
   "execution_count": null,
   "id": "8c322b7e",
   "metadata": {},
   "outputs": [],
   "source": [
    "REFERENCE = 23868.3"
   ]
  },
  {
   "cell_type": "code",
   "execution_count": null,
   "id": "c361b0be",
   "metadata": {},
   "outputs": [],
   "source": [
    "lca = bc.LCA({copper: 1}, (\"Crustal Scarcity Index\", \"1.0\"))\n",
    "lca.lci()\n",
    "lca.lcia()\n",
    "print(lca.score / REFERENCE)"
   ]
  },
  {
   "cell_type": "code",
   "execution_count": null,
   "id": "7274a7f5",
   "metadata": {},
   "outputs": [],
   "source": [
    "nickel = next(x for x in bd.Database(\"ecoinvent 3.8 cutoff\") if x['name'] == 'market for nickel 95%')  # sulfate?\n",
    "nickel"
   ]
  },
  {
   "cell_type": "code",
   "execution_count": null,
   "id": "01729a66",
   "metadata": {},
   "outputs": [],
   "source": [
    "REFERENCE = 4.78E+04"
   ]
  },
  {
   "cell_type": "code",
   "execution_count": null,
   "id": "aa0a1ff5",
   "metadata": {},
   "outputs": [],
   "source": [
    "lca = bc.LCA({nickel: 1}, (\"Crustal Scarcity Index\", \"1.0\"))\n",
    "lca.lci()\n",
    "lca.lcia()\n",
    "print(lca.score / REFERENCE)"
   ]
  },
  {
   "cell_type": "markdown",
   "id": "fd4a516e",
   "metadata": {},
   "source": [
    "Pretty good. The details on the [SimaPro matrix algorithm](https://pre-sustainability.com/files/2014/05/The_Improved_SimaPro_8_Calculation_Engine_Whitepaper_A4.pdf) are not transparent, but I think they do something iterative. We use [pardiso](https://www.pardiso-project.org/), which in my judgment is more reliable, but I don't have actual evidence either way."
   ]
  }
 ],
 "metadata": {
  "kernelspec": {
   "display_name": "Python 3 (ipykernel)",
   "language": "python",
   "name": "python3"
  },
  "language_info": {
   "codemirror_mode": {
    "name": "ipython",
    "version": 3
   },
   "file_extension": ".py",
   "mimetype": "text/x-python",
   "name": "python",
   "nbconvert_exporter": "python",
   "pygments_lexer": "ipython3",
   "version": "3.10.6"
  }
 },
 "nbformat": 4,
 "nbformat_minor": 5
}

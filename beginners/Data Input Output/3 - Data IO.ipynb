{
 "cells": [
  {
   "cell_type": "markdown",
   "metadata": {},
   "source": [
    "# Data input/output\n",
    "\n",
    "Chris Mutel ([PSI](https://www.psi.ch/)), Pascal Lesage ([CIRAIG](http://www.ciraig.org/en/))"
   ]
  },
  {
   "cell_type": "markdown",
   "metadata": {},
   "source": [
    "## Learning objectives  \n",
    "  - Learn how to input LCI data to Brightway in different ways:  \n",
    "    - Programmatically, via dictionaries created directly in Python  \n",
    "    - Excel/cvs importers  \n",
    "    - SimaPro csv\n",
    "      - Two unit-process example\n",
    "      - Agribalyse\n",
    "    - Importing ecoSpold, ecoSpold2"
   ]
  },
  {
   "cell_type": "markdown",
   "metadata": {},
   "source": [
    "## Standard inputs and setup"
   ]
  },
  {
   "cell_type": "code",
   "execution_count": null,
   "metadata": {},
   "outputs": [],
   "source": [
    "import brightway2 as bw\n",
    "import os\n",
    "from pathlib import Path"
   ]
  },
  {
   "cell_type": "code",
   "execution_count": null,
   "metadata": {},
   "outputs": [],
   "source": [
    "import bw2io as bi\n",
    "bi.restore_project_directory(\"/srv/data/projects/ecoinvent38.tar.gz\")"
   ]
  },
  {
   "cell_type": "code",
   "execution_count": null,
   "metadata": {},
   "outputs": [],
   "source": [
    "bw.projects"
   ]
  },
  {
   "cell_type": "markdown",
   "metadata": {},
   "source": [
    "Setting the project"
   ]
  },
  {
   "cell_type": "markdown",
   "metadata": {},
   "source": [
    "This is how we could have done it with the actual ecoinvent files:\n",
    "\n",
    "```python\n",
    "ei = \"/home/user/Documents/dbs/ecoinvent/3.8/cutoff/datasets\"\n",
    "ei = bw.SingleOutputEcospold2Importer(ei, \"ecoinvent 3.8 cutoff\")\n",
    "ei.apply_strategies()\n",
    "ei.statistics()\n",
    "ei.write_database()\n",
    "```"
   ]
  },
  {
   "cell_type": "markdown",
   "metadata": {},
   "source": [
    "Assigning our database to a variable"
   ]
  },
  {
   "cell_type": "code",
   "execution_count": null,
   "metadata": {},
   "outputs": [],
   "source": [
    "eidb = bw.Database('ecoinvent 3.8 cutoff')"
   ]
  },
  {
   "cell_type": "code",
   "execution_count": null,
   "metadata": {},
   "outputs": [],
   "source": [
    "len(eidb)"
   ]
  },
  {
   "cell_type": "markdown",
   "metadata": {},
   "source": [
    "## Context"
   ]
  },
  {
   "cell_type": "markdown",
   "metadata": {},
   "source": [
    "Performing LCA generally requires:\n",
    "  - Background LCI data (e.g. an LCI database)  \n",
    "  - Foreground LCI data  \n",
    "  - Sets of characterization factors.    \n",
    "This section will deal with the way data is input to Brightway"
   ]
  },
  {
   "cell_type": "markdown",
   "metadata": {},
   "source": [
    "Useful documentation about what a database in Brightway is can be found [here](https://github.com/brightway-lca/brightway2/blob/master/notebooks/Databases.ipynb)\n",
    " and [here](https://2.docs.brightway.dev/intro.html#inventory-databases)."
   ]
  },
  {
   "cell_type": "markdown",
   "metadata": {},
   "source": [
    "# Creating a database programmatically"
   ]
  },
  {
   "cell_type": "markdown",
   "metadata": {},
   "source": [
    "One can create a database via a database. This database would include activities that would contain information about the activities themselves as well as information about the exchanges that are output to this activity (although these get seperated out when the data is written to the actual `database.db`). Let's look at the components of a database for a random activity:"
   ]
  },
  {
   "cell_type": "code",
   "execution_count": null,
   "metadata": {},
   "outputs": [],
   "source": [
    "random_act = eidb.random()"
   ]
  },
  {
   "cell_type": "code",
   "execution_count": null,
   "metadata": {},
   "outputs": [],
   "source": [
    "# Information about activities themselves:\n",
    "random_act.as_dict()"
   ]
  },
  {
   "cell_type": "code",
   "execution_count": null,
   "metadata": {},
   "outputs": [],
   "source": [
    "# Information associated with the exchanges of this activity:\n",
    "[exc for exc in random_act.exchanges()][1].as_dict()"
   ]
  },
  {
   "cell_type": "markdown",
   "metadata": {},
   "source": [
    "Let's create one for our simple LCA:"
   ]
  },
  {
   "cell_type": "code",
   "execution_count": null,
   "metadata": {},
   "outputs": [],
   "source": [
    "database_as_dictionary = bw.Database(\"Database as dict\")\n",
    "\n",
    "water_bottle_data = {\n",
    "    (\"Database as dict\", \"Some code for the bottle production\"): {\n",
    "        \"name\": \"Water bottle production\",\n",
    "        'unit': 'unit',\n",
    "        'location': 'CH',\n",
    "        'categories': (\"Some made up\", \"category here\"),\n",
    "        \"exchanges\": [{\n",
    "            \"amount\": 0.33,\n",
    "            \"input\": ('ecoinvent 3.8 cutoff', ''), #Aluminium\n",
    "            \"type\": \"technosphere\",\n",
    "            \"uncertainty type\":0,\n",
    "            \"unit=\": \"kg\"},\n",
    "                      {\n",
    "            \"amount\": 0.33,\n",
    "            \"input\": ('ecoinvent 3.8 cutoff', ''), #Deformation stroke\n",
    "            \"type\": \"technosphere\",\n",
    "            \"uncertainty type\":0,\n",
    "            \"unit=\": \"kg\"}\n",
    "        ],\n",
    "        },\n",
    "    (\"Database as dict\", \"Some code for drinking a bottle full of water\"): {\n",
    "        \"name\": \"Water drinking\",\n",
    "        'unit': 'liter',\n",
    "        'location': 'CH',\n",
    "        'categories': (\"Another made up\", \"category here\"),\n",
    "        \"exchanges\": [{\n",
    "            \"amount\": 1,\n",
    "            \"input\": (\"Database as dict\", \"Some code for the bottle production\"), #Our water bottle\n",
    "            \"type\": \"technosphere\",\n",
    "            \"uncertainty type\":5,\n",
    "            \"loc\":0.005,\n",
    "            \"minimum\":0.0005,\n",
    "            \"maximum\":0.05,\n",
    "            \"unit\": \"kg\"},\n",
    "                      {\n",
    "            \"amount\": 1,\n",
    "            \"input\": ('ecoinvent 3.8 cutoff', ''), #Water\n",
    "            \"type\": \"technosphere\",\n",
    "            \"uncertainty type\":0,\n",
    "            \"unit=\": \"kg\"}],\n",
    "        }\n",
    "}"
   ]
  },
  {
   "cell_type": "code",
   "execution_count": null,
   "metadata": {},
   "outputs": [],
   "source": [
    "database_as_dictionary.write(water_bottle_data)"
   ]
  },
  {
   "cell_type": "code",
   "execution_count": null,
   "metadata": {},
   "outputs": [],
   "source": [
    "len(database_as_dictionary)"
   ]
  },
  {
   "cell_type": "code",
   "execution_count": null,
   "metadata": {},
   "outputs": [],
   "source": [
    "lca = bw.LCA({drinking_act:1}, ('IPCC 2013', 'climate change', 'GWP 100a'))\n",
    "lca.load_lci_data()"
   ]
  },
  {
   "cell_type": "code",
   "execution_count": null,
   "metadata": {},
   "outputs": [],
   "source": [
    "water_bottle_LCA_from_dict_input = bw.LCA({drinking_act:1}, ('IPCC 2013', 'climate change', 'GWP 100a'))"
   ]
  },
  {
   "cell_type": "code",
   "execution_count": null,
   "metadata": {},
   "outputs": [],
   "source": [
    "# Your turn:\n",
    "# Do the LCI + LCIA and get the score"
   ]
  },
  {
   "cell_type": "markdown",
   "metadata": {},
   "source": [
    "# Importing from CSV or Excel"
   ]
  },
  {
   "cell_type": "markdown",
   "metadata": {},
   "source": [
    "## Choose: the easy way or the hard way\n",
    "\n",
    "If you choose the easy way, just to the \"easy way\" section.\n",
    "\n",
    "### The hard way\n",
    "\n",
    "We will import a dataset in Excel, but this dataset has errors that we will have to fix."
   ]
  },
  {
   "cell_type": "code",
   "execution_count": null,
   "metadata": {},
   "outputs": [],
   "source": [
    "imp = bw.ExcelImporter(Path(\".\") / \"files\" / \"excel_importer_example_problems.xlsx\")\n",
    "imp.apply_strategies()\n",
    "imp.match_database(fields=('name', 'unit', 'location'))\n",
    "imp.match_database(\"ecoinvent 3.8 cutoff\", fields=('name', 'unit', 'location'))\n",
    "imp.statistics()"
   ]
  },
  {
   "cell_type": "markdown",
   "metadata": {},
   "source": [
    "Oops... we have some problems. Let's export our in-process data to a Excel sheet and see what went wrong. It is probably also sensible to load our input Excel sheet at the same time."
   ]
  },
  {
   "cell_type": "code",
   "execution_count": null,
   "metadata": {},
   "outputs": [],
   "source": [
    "imp.write_excel()"
   ]
  },
  {
   "cell_type": "markdown",
   "metadata": {},
   "source": [
    "It looks like we have a few small inconsistencies, like the name of the processes or their locations. Try to fix these on your own, and re-run the code two cells above to get an idea of your progress. The attributes used for matching (`fields`) must match exactly, though they are case-insensitive.\n",
    "\n",
    "If you can't get it to work, you can change the name of the import file to \"excel_importer_example_fixed.xlsx\"; this already has the necessary corrections.\n",
    "\n",
    "If you need to find the ecoinvent processes, you can search ecoinvent (as you should already know :)"
   ]
  },
  {
   "cell_type": "code",
   "execution_count": null,
   "metadata": {
    "tags": []
   },
   "outputs": [],
   "source": [
    "for u in imp.unlinked:\n",
    "    print(u)"
   ]
  },
  {
   "cell_type": "code",
   "execution_count": null,
   "metadata": {},
   "outputs": [],
   "source": [
    "db = bw.Database(\"ecoinvent 3.8 cutoff\")\n",
    "db.search(\"aluminium from scrap\")"
   ]
  },
  {
   "cell_type": "markdown",
   "metadata": {},
   "source": [
    "### The easy way\n",
    "\n",
    "Import a file where everything should link without any problems. Faster, but you don't learn about how, why, and all those other silly questions."
   ]
  },
  {
   "cell_type": "code",
   "execution_count": null,
   "metadata": {},
   "outputs": [],
   "source": [
    "bw.ExcelImporter?"
   ]
  },
  {
   "cell_type": "code",
   "execution_count": null,
   "metadata": {},
   "outputs": [],
   "source": [
    "imp = bw.ExcelImporter(Path(\".\") / \"files\" / \"excel_importer_example.xlsx\")\n",
    "imp.apply_strategies()\n",
    "imp.match_database(fields=('name', 'unit', 'location'))\n",
    "imp.match_database(\"ecoinvent 3.8 cutoff\", fields=('name', 'unit', 'location'))\n",
    "imp.statistics()"
   ]
  },
  {
   "cell_type": "code",
   "execution_count": null,
   "metadata": {},
   "outputs": [],
   "source": [
    "imp.metadata"
   ]
  },
  {
   "cell_type": "markdown",
   "metadata": {},
   "source": [
    "### Writing the database\n",
    "\n",
    "Finally, we need to write this data to a new `Database`."
   ]
  },
  {
   "cell_type": "code",
   "execution_count": null,
   "metadata": {},
   "outputs": [],
   "source": [
    "imp.write_database()"
   ]
  },
  {
   "cell_type": "code",
   "execution_count": null,
   "metadata": {},
   "outputs": [],
   "source": [
    "imp.metadata"
   ]
  },
  {
   "cell_type": "markdown",
   "metadata": {},
   "source": [
    "Test to make sure we can do an LCA"
   ]
  },
  {
   "cell_type": "code",
   "execution_count": null,
   "metadata": {},
   "outputs": [],
   "source": [
    "lca = bw.LCA(\n",
    "    {(\"BW2 Excel water bottle import\", \"WriteSomeCode_UUID_isFineButNotNecessary\"): 1}, \n",
    "    ('IPCC 2013', 'climate change', 'GWP 100a')\n",
    ")\n",
    "lca.lci()\n",
    "lca.lcia()\n",
    "lca.score"
   ]
  },
  {
   "cell_type": "markdown",
   "metadata": {},
   "source": [
    "# Importing from ecospold 1\n",
    "\n",
    "**Note** The following notebooks (and databases) are too old to be fully executed, but we can take a look at them to see how to proceed when there are problems importing.\n",
    "\n",
    "Please open the [following notebook](http://nbviewer.jupyter.org/urls/bitbucket.org/cmutel/brightway2/raw/default/notebooks/IO%20-%20Importing%20Agribalyse%20with%20Ecoinvent%202.2.ipynb), download it to this directory, and run it separately. For now, you can find a copy of [agribalyse 1.2 here](http://brightwaylca.org/data/agribalyse.zip); this will need to be unzipped in a child directory of the current directory."
   ]
  },
  {
   "cell_type": "markdown",
   "metadata": {},
   "source": [
    "# Importing from other formats\n",
    "\n",
    "The procedure for importing from other formats is quite similar, you just have to choose the correct importer class. This does not mean that it is easy! Some formats are harder than others, but the [example notebooks](https://docs.brightwaylca.org/notebooks.html#example-notebooks) should at least point you in the right direction."
   ]
  }
 ],
 "metadata": {
  "kernelspec": {
   "display_name": "Python 3 (ipykernel)",
   "language": "python",
   "name": "python3"
  },
  "language_info": {
   "codemirror_mode": {
    "name": "ipython",
    "version": 3
   },
   "file_extension": ".py",
   "mimetype": "text/x-python",
   "name": "python",
   "nbconvert_exporter": "python",
   "pygments_lexer": "ipython3",
   "version": "3.10.6"
  },
  "toc": {
   "colors": {
    "hover_highlight": "#DAA520",
    "running_highlight": "#FF0000",
    "selected_highlight": "#FFD700"
   },
   "moveMenuLeft": true,
   "nav_menu": {
    "height": "208px",
    "width": "252px"
   },
   "navigate_menu": true,
   "number_sections": true,
   "sideBar": true,
   "threshold": 4,
   "toc_cell": false,
   "toc_section_display": "block",
   "toc_window_display": false,
   "widenNotebook": false
  }
 },
 "nbformat": 4,
 "nbformat_minor": 4
}

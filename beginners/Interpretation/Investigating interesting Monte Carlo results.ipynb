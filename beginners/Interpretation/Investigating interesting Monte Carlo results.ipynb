{
 "cells": [
  {
   "cell_type": "markdown",
   "id": "1e7cc490-52ec-4418-a10e-e6e1e7b25a65",
   "metadata": {},
   "source": [
    "# Finding out why Monte Carlo results are significantly different than static ones\n",
    "\n",
    "Based on a [Stack Overflow question](https://stackoverflow.com/questions/72807629/overestimated-monte-carlo-results-in-brightway).\n",
    "\n",
    "Uses Brightway 2.5."
   ]
  },
  {
   "cell_type": "code",
   "execution_count": null,
   "id": "84499324-db0a-445f-af1c-3a24e8a850d3",
   "metadata": {},
   "outputs": [],
   "source": [
    "import bw2data as bd\n",
    "import bw2calc as bc\n",
    "import bw2analyzer as ba\n",
    "import bw2io as bi\n",
    "import numpy as np\n",
    "import pandas as pd"
   ]
  },
  {
   "cell_type": "markdown",
   "id": "95bb02a8-7b4e-40af-8b4a-e42fd5356487",
   "metadata": {},
   "source": [
    "This is setup for the DdS infrastructure and courses where we have access to ecoinvent. Adjust as needed."
   ]
  },
  {
   "cell_type": "code",
   "execution_count": null,
   "id": "f15a7a37-9b25-499b-bd7c-576ef614127d",
   "metadata": {},
   "outputs": [],
   "source": [
    "if \"ei38-conseq-25\" not in bd.projects:\n",
    "    bi.restore_project_directory(\"/srv/data/projects/ecoinvent38-conseq.tar.gz\")"
   ]
  },
  {
   "cell_type": "code",
   "execution_count": null,
   "id": "5d3107e1-5d98-4506-90e7-7a5fb29b2f60",
   "metadata": {},
   "outputs": [],
   "source": [
    "bd.projects.set_current(\"ei38-conseq-25\")"
   ]
  },
  {
   "cell_type": "markdown",
   "id": "4d7feb5c-f3a9-4c03-99c8-079045579726",
   "metadata": {},
   "source": [
    "Define functional unit and LCIA impact category"
   ]
  },
  {
   "cell_type": "code",
   "execution_count": null,
   "id": "47170954-85f9-4b32-9ea3-340a95eb1d0a",
   "metadata": {},
   "outputs": [],
   "source": [
    "waste_paper = bd.get_node(name='market for waste paper, sorted', database='ei 3.8 conseq')\n",
    "ipcc = ('IPCC 2013', 'climate change', 'GWP 100a')"
   ]
  },
  {
   "cell_type": "markdown",
   "id": "2a4b625c-b537-4e1a-9def-88236e1290cd",
   "metadata": {},
   "source": [
    "Create static and stochastic LCA instances"
   ]
  },
  {
   "cell_type": "code",
   "execution_count": null,
   "id": "789393c7-3fea-4b38-ba82-0b6160540891",
   "metadata": {},
   "outputs": [],
   "source": [
    "static = bc.LCA({waste_paper: 1}, ipcc)\n",
    "static.lci()\n",
    "static.lcia()"
   ]
  },
  {
   "cell_type": "code",
   "execution_count": null,
   "id": "15047cb7-2cdf-46a3-8a53-32abea87bb71",
   "metadata": {},
   "outputs": [],
   "source": [
    "mc = bc.LCA({waste_paper: 1}, ipcc, use_distributions=True)\n",
    "mc.lci()\n",
    "mc.lcia()"
   ]
  },
  {
   "cell_type": "markdown",
   "id": "d991c528-85d8-4866-ac71-1e5fd4a2ec28",
   "metadata": {},
   "source": [
    "Confirm that the scores are quite different"
   ]
  },
  {
   "cell_type": "code",
   "execution_count": null,
   "id": "4bb17e20-12ad-4348-a0f8-53f091ddcdc0",
   "metadata": {
    "tags": []
   },
   "outputs": [],
   "source": [
    "static.score, np.mean([mc.score for _ in zip(range(10), mc)])"
   ]
  },
  {
   "cell_type": "markdown",
   "id": "fe8bf0b5-6f81-46e1-873d-55f03bb51e9d",
   "metadata": {},
   "source": [
    "We can do a recursive calculation on the Monte Carlo object (this doesn't call `__next__`, so the matrices remain the same), but we need to give some normally private arguments:"
   ]
  },
  {
   "cell_type": "code",
   "execution_count": null,
   "id": "4514dd08-51d2-44e1-a291-0fe0413a86bc",
   "metadata": {
    "tags": []
   },
   "outputs": [],
   "source": [
    "ba.print_recursive_calculation(\n",
    "    waste_paper,\n",
    "    ipcc,\n",
    "    amount=1,\n",
    "    max_level=5,\n",
    "    cutoff=0.01,\n",
    "    _lca_obj=mc,\n",
    "    _total_score=mc.score,\n",
    ")"
   ]
  },
  {
   "cell_type": "markdown",
   "id": "4e8193e9-5463-403b-9841-7842df086118",
   "metadata": {},
   "source": [
    "We can see from this that there is a large impact from `tissue paper production, virgin`. Let's switch our functional unit to this:"
   ]
  },
  {
   "cell_type": "code",
   "execution_count": null,
   "id": "7c5b4ab1-0208-4127-b7f7-96ba7531826a",
   "metadata": {},
   "outputs": [],
   "source": [
    "tissue = bd.get_node(name='tissue paper production, virgin', database='ei 3.8 conseq')"
   ]
  },
  {
   "cell_type": "markdown",
   "id": "1e7fd7a5-68d6-4fc4-a655-17c3d558320a",
   "metadata": {},
   "source": [
    "But when we try to look through the supply chain to understand why we get such high stochastic impacts, we don't get anywhere:"
   ]
  },
  {
   "cell_type": "code",
   "execution_count": null,
   "id": "aca5d479-795e-4e70-b529-26800c487986",
   "metadata": {},
   "outputs": [],
   "source": [
    "static = bc.LCA({tissue: 1}, ipcc)\n",
    "static.lci()\n",
    "static.lcia()"
   ]
  },
  {
   "cell_type": "code",
   "execution_count": null,
   "id": "961d1582-70e2-4b33-b1e3-3ba0a4e3ed69",
   "metadata": {},
   "outputs": [],
   "source": [
    "mc = bc.LCA({tissue: 1}, ipcc, use_distributions=True)\n",
    "mc.lci()\n",
    "mc.lcia()"
   ]
  },
  {
   "cell_type": "code",
   "execution_count": null,
   "id": "61506cb2-7c60-4bb1-9bc4-5c7c13360850",
   "metadata": {},
   "outputs": [],
   "source": [
    "ba.print_recursive_calculation(\n",
    "    tissue,\n",
    "    ipcc,\n",
    "    amount=1,\n",
    "    max_level=5,\n",
    "    cutoff=0.025,\n",
    "    _lca_obj=mc,\n",
    "    _total_score=mc.score,\n",
    ")"
   ]
  },
  {
   "cell_type": "markdown",
   "id": "2e4a990b-8ef4-4a4b-94f6-a8da3d20e7cd",
   "metadata": {},
   "source": [
    "We seem to be missing something important - the total (stochastic) score is > 200, but the only input above our 2.5% cutoff is sulfite pulp, which is only 3.6% of the total score (specific numbers can change per MC iteration). Maybe this activity has some high direct emissions?"
   ]
  },
  {
   "cell_type": "code",
   "execution_count": null,
   "id": "ddb82a68-f7f8-45a6-a9bd-b97acc27d356",
   "metadata": {},
   "outputs": [],
   "source": [
    "mc.characterized_inventory[:, mc.dicts.activity[tissue.id]].sum()"
   ]
  },
  {
   "cell_type": "markdown",
   "id": "6e155112-b8da-447f-b54b-65dfabb63065",
   "metadata": {},
   "source": [
    "We don't see anything in our supply chain..."
   ]
  },
  {
   "cell_type": "markdown",
   "id": "1b9fbae2-fd9e-40b8-bf9d-e20b2242c724",
   "metadata": {},
   "source": [
    "[Something is hapening here, but you don't know what it is](https://www.youtube.com/watch?v=we37yX3zpKA)...\n",
    "\n",
    "Not going to lie, this was very confusing. There are no direct emissions from tissue paper, but also no impacts from the supply chain of tissue paper. Eventually I realized that we can compare the values in the technosphere matrix for the static and Monte Carlo cases and see how different the input amounts are:"
   ]
  },
  {
   "cell_type": "code",
   "execution_count": null,
   "id": "1a73e786-3822-4d96-a740-8efaf7f50785",
   "metadata": {},
   "outputs": [],
   "source": [
    "def compare_inputs_two_lca_objects(first, second, column_id):\n",
    "    column_index = first.dicts.activity[column_id]\n",
    "    results = []\n",
    "    \n",
    "    for row in first.technosphere_matrix[:, column_index].tocoo().row:\n",
    "        a = abs(first.technosphere_matrix[row, column_index])\n",
    "        b = abs(second.technosphere_matrix[row, column_index])\n",
    "        try:\n",
    "            ratio = a / b\n",
    "        except ZeroDivisionError:\n",
    "            ratio = 0\n",
    "        if ratio > 10 or ratio < 0.1:\n",
    "            act = bd.get_activity(first.dicts.product.reversed[row])\n",
    "            results.append({\n",
    "                'ratio': ratio, \n",
    "                'a_value': a,\n",
    "                'b_value': b,\n",
    "                'name': act['name'],\n",
    "                'location': act['name'],\n",
    "                'act_id': act.id,\n",
    "            })\n",
    "            \n",
    "    if results:\n",
    "        results.sort(key=lambda x: x['ratio'], reverse=True)\n",
    "        results = pd.DataFrame(results)\n",
    "    return results"
   ]
  },
  {
   "cell_type": "code",
   "execution_count": null,
   "id": "13061d5f-1482-4a3f-b0e2-3da74bf52d57",
   "metadata": {},
   "outputs": [],
   "source": [
    "compare_inputs_two_lca_objects(mc, static, tissue.id)"
   ]
  },
  {
   "cell_type": "markdown",
   "id": "91757eb4-5d0a-4d2e-89f6-8b2404674bcf",
   "metadata": {},
   "source": [
    "We are finally getting somewhere! We have four inputs to the tissue paper where the static amounts are **much less** than the stochastic values sampled. Let's look at one of the uncertainty distributions ([here is the activity dataset at ecoinvent](https://v38.ecoquery.ecoinvent.org/Details/UPR/62960c80-c028-44d4-9d45-a4a6a7a689c6/dd7f13f5-0658-489c-a19c-f2ff8a00bdd9)):"
   ]
  },
  {
   "cell_type": "code",
   "execution_count": null,
   "id": "0edfd1a1-fc05-4e2d-ad6b-6aa7748d2f23",
   "metadata": {},
   "outputs": [],
   "source": [
    "exc = next(exc for exc in tissue.technosphere() if exc.input.id == 8907)\n",
    "dist = {attr: exc.get(attr) for attr in ('uncertainty type', 'minimum', 'loc', 'maximum')}\n",
    "dist"
   ]
  },
  {
   "cell_type": "markdown",
   "id": "b4040ba1-e5db-4aac-b247-89184a4d1e60",
   "metadata": {},
   "source": [
    "`5` is the [triangular distribution](https://en.wikipedia.org/wiki/Triangular_distribution), this comes from [stats_arrays](https://stats-arrays.readthedocs.io/en/latest/).\n",
    "\n",
    "So, what does this mean? Let's look at the statistics:"
   ]
  },
  {
   "cell_type": "code",
   "execution_count": null,
   "id": "eaeee622-0070-4ed5-8fbb-731cdc085579",
   "metadata": {},
   "outputs": [],
   "source": [
    "import stats_arrays as sa"
   ]
  },
  {
   "cell_type": "code",
   "execution_count": null,
   "id": "39c12ede-f23f-45e4-8691-2b16837dd505",
   "metadata": {},
   "outputs": [],
   "source": [
    "sa.TriangularUncertainty.statistics(sa.TriangularUncertainty.from_dicts(dist))"
   ]
  },
  {
   "cell_type": "markdown",
   "id": "0129aa69-6e19-47e6-8d50-5c69e97b89ce",
   "metadata": {},
   "source": [
    "When the mean is more than 200 times the static value used, it makes sense that the Monte Carlo results would be significantly biased. And we see a similar pattern in the other three exchanges with high ratios.\n",
    "\n",
    "Why didn't we see this in our recursive graph traversal? Because that uses the static exchange values instead of the values in the matrix itself:\n",
    "\n",
    "```python\n",
    "for exc in activity.technosphere():\n",
    "```\n",
    "\n",
    "As of `bw2analyzer` version 0.11.4, we have a modified `print_recursive_calculation` function which will use the actual matrix values (i.e. Monte Carlo samples) instead:"
   ]
  },
  {
   "cell_type": "code",
   "execution_count": null,
   "id": "2505e945-d4d0-4308-bff2-c4d2e340bab2",
   "metadata": {},
   "outputs": [],
   "source": [
    "ba.print_recursive_calculation(\n",
    "    tissue,\n",
    "    ipcc,\n",
    "    amount=1,\n",
    "    max_level=5,\n",
    "    cutoff=0.025,\n",
    "    use_matrix_values=True,\n",
    "    _lca_obj=mc,\n",
    "    _total_score=mc.score,\n",
    ")"
   ]
  },
  {
   "cell_type": "markdown",
   "id": "023f76d0-06dd-4244-a353-e991825755da",
   "metadata": {},
   "source": [
    "We can now find interesting results more quickly."
   ]
  }
 ],
 "metadata": {
  "kernelspec": {
   "display_name": "Python 3 (ipykernel)",
   "language": "python",
   "name": "python3"
  },
  "language_info": {
   "codemirror_mode": {
    "name": "ipython",
    "version": 3
   },
   "file_extension": ".py",
   "mimetype": "text/x-python",
   "name": "python",
   "nbconvert_exporter": "python",
   "pygments_lexer": "ipython3",
   "version": "3.10.6"
  }
 },
 "nbformat": 4,
 "nbformat_minor": 5
}

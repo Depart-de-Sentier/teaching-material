{
 "cells": [
  {
   "cell_type": "markdown",
   "id": "worldwide-blowing",
   "metadata": {},
   "source": [
    "# Exploration functions - `bw2analyzer` interpretation\n",
    "\n",
    "This notebook shows some new exploration functions addedd to `bw2analyzer`."
   ]
  },
  {
   "cell_type": "code",
   "execution_count": null,
   "id": "organizational-armenia",
   "metadata": {},
   "outputs": [],
   "source": [
    "import bw2data as bd\n",
    "import bw2analyzer as ba\n",
    "import bw2calc as bc\n",
    "import bw2io as bi"
   ]
  },
  {
   "cell_type": "markdown",
   "id": "sitting-electric",
   "metadata": {},
   "source": [
    "We use `ecoinvent` as an example database, but the functions shown here are generic."
   ]
  },
  {
   "cell_type": "markdown",
   "id": "3af120e1-eaeb-4bcc-bd40-6fd83b669a03",
   "metadata": {},
   "source": [
    "This is setup for the DdS infrastructure and courses where we have access to ecoinvent. Adjust as needed."
   ]
  },
  {
   "cell_type": "code",
   "execution_count": null,
   "id": "83ed6bca-75ee-47b7-88f2-249c04d57a44",
   "metadata": {},
   "outputs": [],
   "source": [
    "if 'ei38-teaching-25' not in bd.projects:\n",
    "    bi.restore_project_directory(\"/srv/data/projects/ecoinvent38-25.tar.gz\")"
   ]
  },
  {
   "cell_type": "code",
   "execution_count": null,
   "id": "appreciated-cream",
   "metadata": {},
   "outputs": [],
   "source": [
    "bd.projects.set_current('ei38-teaching-25')"
   ]
  },
  {
   "cell_type": "markdown",
   "id": "existing-spectacular",
   "metadata": {},
   "source": [
    "## `print_recursive_supply_chain`\n",
    "\n",
    "Sometimes it is convenient to print the supply chain of an activity. This function is only for exploration; use `bw2calc.GraphTraversal` in production."
   ]
  },
  {
   "cell_type": "code",
   "execution_count": null,
   "id": "unnecessary-rochester",
   "metadata": {},
   "outputs": [],
   "source": [
    "ei = bd.Database(\"ei 3.8 cutoff\")"
   ]
  },
  {
   "cell_type": "code",
   "execution_count": null,
   "id": "fluid-screening",
   "metadata": {},
   "outputs": [],
   "source": [
    "act = ei.random()\n",
    "act"
   ]
  },
  {
   "cell_type": "code",
   "execution_count": null,
   "id": "impaired-isaac",
   "metadata": {},
   "outputs": [],
   "source": [
    "ba.print_recursive_supply_chain(act)"
   ]
  },
  {
   "cell_type": "markdown",
   "id": "southern-worthy",
   "metadata": {},
   "source": [
    "This function also supports:\n",
    "\n",
    "* Using a custom string instead of tabs for indentation\n",
    "* Writing to a file-like object instead of printing to `stdout`\n",
    "* Rescaling all amounts to an arbitrary value\n",
    "* Using a cutoff to limit what is returned\n",
    "* Specifying an arbitrary maximum recursion depth\n",
    "\n",
    "Here is a silly example of most of these options:"
   ]
  },
  {
   "cell_type": "code",
   "execution_count": null,
   "id": "driving-breeding",
   "metadata": {},
   "outputs": [],
   "source": [
    "ba.print_recursive_supply_chain(act, max_level=5, cutoff=0.02, tab_character=\"🐶\", amount=2)"
   ]
  },
  {
   "cell_type": "markdown",
   "id": "adjusted-eating",
   "metadata": {},
   "source": [
    "## `print_recursive_calculation`\n",
    "\n",
    "We can do the same thing, but filter not by the amounts consumed but their respective environmental impacts."
   ]
  },
  {
   "cell_type": "code",
   "execution_count": null,
   "id": "fixed-teens",
   "metadata": {},
   "outputs": [],
   "source": [
    "ipcc = ('IPCC 2013', 'climate change', 'GWP 100a')"
   ]
  },
  {
   "cell_type": "code",
   "execution_count": null,
   "id": "neither-rolling",
   "metadata": {},
   "outputs": [],
   "source": [
    "ba.print_recursive_calculation(act, ipcc)"
   ]
  },
  {
   "cell_type": "markdown",
   "id": "satisfied-blade",
   "metadata": {},
   "source": [
    "This function supports the same arguments as `print_recursive_supply_chain`."
   ]
  },
  {
   "cell_type": "markdown",
   "id": "restricted-treaty",
   "metadata": {},
   "source": [
    "## `find_differences_in_inputs`\n",
    "\n",
    "Some databases have multiple activities that seem similar, but it is hard to tell how different they really are. `find_differences_in_inputs` is one of three functions that helps distinguish between different activities. It will look through the database that the activity came from, find all other activities with the same name and reference product, and see if their inputs are substantially different.\n",
    "\n",
    "In our example activity, there are 60 different activities with the same name and reference product, so we limit the result to certain locations."
   ]
  },
  {
   "cell_type": "code",
   "execution_count": null,
   "id": "10c9934f-babd-483b-ab05-d9cc6d5a7868",
   "metadata": {},
   "outputs": [],
   "source": [
    "act = bd.get_node(\n",
    "    name='heat and power co-generation, natural gas, conventional power plant, 100MW electrical',\n",
    "    unit='kilowatt hour',\n",
    "    location='PT',\n",
    "    database=\"ei 3.8 cutoff\",\n",
    ")"
   ]
  },
  {
   "cell_type": "code",
   "execution_count": null,
   "id": "mineral-campbell",
   "metadata": {},
   "outputs": [],
   "source": [
    "canada = ['CA-BC', 'CA-AB', 'CA-NS', 'CA-MB', 'CA-QC', 'CA-PE', 'CA-ON', 'CA-NB', 'CA-SK', 'CA-NT']"
   ]
  },
  {
   "cell_type": "markdown",
   "id": "double-finland",
   "metadata": {},
   "source": [
    "This function compares the net amount of each flow, and adds up multiple exchanges which reference the same flow. The above printed result is still a bit hard to interpret; returning this analysis result as a dataframe can allow for quick interpretation of the results:"
   ]
  },
  {
   "cell_type": "code",
   "execution_count": null,
   "id": "caroline-prince",
   "metadata": {},
   "outputs": [],
   "source": [
    "df = ba.find_differences_in_inputs(act, locations=canada, as_dataframe=True)\n",
    "df / df.iloc[0]"
   ]
  },
  {
   "cell_type": "markdown",
   "id": "jewish-married",
   "metadata": {},
   "source": [
    "## `compare_activities_by_lcia_score`"
   ]
  },
  {
   "cell_type": "markdown",
   "id": "according-recognition",
   "metadata": {},
   "source": [
    "A common question when trying to choose between different activities with similar sounding names is: Does it matter which one we choose? Are they actually any different? `compare_activities_by_lcia_score` allows for a comparison of any activities. If we look at very similar activities, we don't see a real difference:"
   ]
  },
  {
   "cell_type": "code",
   "execution_count": null,
   "id": "spare-hands",
   "metadata": {},
   "outputs": [],
   "source": [
    "justin = [\n",
    "    a for a in ei \n",
    "    if a['name'] == act['name'] \n",
    "    and a['reference product'] == act['reference product']\n",
    "    and a['location'] in canada\n",
    "]\n",
    "justin"
   ]
  },
  {
   "cell_type": "code",
   "execution_count": null,
   "id": "revolutionary-gateway",
   "metadata": {},
   "outputs": [],
   "source": [
    "ba.compare_activities_by_lcia_score(\n",
    "    [\n",
    "        a for a in justin \n",
    "        if a['location'] != 'CA-QC'  # Je me souviens ;)\n",
    "    ],\n",
    "    ipcc\n",
    ")"
   ]
  },
  {
   "cell_type": "markdown",
   "id": "julian-spirituality",
   "metadata": {},
   "source": [
    "Allowing for Québec already produces different results:"
   ]
  },
  {
   "cell_type": "code",
   "execution_count": null,
   "id": "freelance-logistics",
   "metadata": {},
   "outputs": [],
   "source": [
    "ba.compare_activities_by_lcia_score(\n",
    "    justin,\n",
    "    ipcc\n",
    ")"
   ]
  },
  {
   "cell_type": "markdown",
   "id": "unlimited-bracket",
   "metadata": {},
   "source": [
    "Note that the Brightway developers take no position on Québec, Canada, or the correctness of the results provided above!"
   ]
  },
  {
   "cell_type": "markdown",
   "id": "iraqi-nitrogen",
   "metadata": {},
   "source": [
    "You can set the cutoff for what a \"real\" difference is with the `band` argument. Just for fun, let's look at many different CHP activities."
   ]
  },
  {
   "cell_type": "code",
   "execution_count": null,
   "id": "interracial-catalog",
   "metadata": {},
   "outputs": [],
   "source": [
    "{act['name'] for act in ei if act['name'].startswith('heat and power co-generation, natural gas')}"
   ]
  },
  {
   "cell_type": "code",
   "execution_count": null,
   "id": "hungarian-origin",
   "metadata": {},
   "outputs": [],
   "source": [
    "ba.compare_activities_by_lcia_score(\n",
    "    [a for a in ei \n",
    "     if a['name'].startswith('heat and power co-generation, natural gas')\n",
    "     and a['reference product'] == act['reference product']\n",
    "    ], \n",
    "    ipcc,\n",
    "    band=1\n",
    ")"
   ]
  },
  {
   "cell_type": "code",
   "execution_count": null,
   "id": "excessive-viking",
   "metadata": {},
   "outputs": [],
   "source": [
    "ba.compare_activities_by_lcia_score(\n",
    "    [a for a in ei \n",
    "     if a['name'].startswith('heat and power co-generation, natural gas')\n",
    "     and a['reference product'] == act['reference product']\n",
    "    ], \n",
    "    ipcc,\n",
    "    band=0.25\n",
    ")"
   ]
  },
  {
   "cell_type": "markdown",
   "id": "israeli-comparison",
   "metadata": {},
   "source": [
    "## `compare_activities_by_grouped_leaves`\n",
    "\n",
    "Knowing that there are differences isn't always super helpful - one wants to *why* there are differences. We can't really go through the supply chains of many different activities manually, and keep all the differences straight. The function `compare_activities_by_grouped_leaves` will sum the *impacts* of the different supply chain activities by their [Common Product Classification](https://unstats.un.org/unsd/classifications/Econ/cpc) code. This will only work on databases which provide CPC codes in the same format as ecoinvent.\n",
    "\n",
    "This function has multiple output formats. The default is a Python tuple of `(labels, data)`, but this is not shown here, as it is intended for programmatic use. Humans would choose either an HTML table:"
   ]
  },
  {
   "cell_type": "code",
   "execution_count": null,
   "id": "australian-reduction",
   "metadata": {},
   "outputs": [],
   "source": [
    "ba.compare_activities_by_grouped_leaves(\n",
    "    [a for a in ei \n",
    "     if a['name'].startswith('heat and power co-generation, natural gas')\n",
    "     and a['reference product'] == act['reference product']\n",
    "    ][:5], \n",
    "    ipcc,\n",
    "    output_format=\"html\",\n",
    ")"
   ]
  },
  {
   "cell_type": "markdown",
   "id": "demonstrated-cosmetic",
   "metadata": {},
   "source": [
    "Or as a pandas `DataFrame`:"
   ]
  },
  {
   "cell_type": "code",
   "execution_count": null,
   "id": "rural-potato",
   "metadata": {},
   "outputs": [],
   "source": [
    "df = ba.compare_activities_by_grouped_leaves(\n",
    "    [a for a in ei \n",
    "     if a['name'].startswith('heat and power co-generation, natural gas')\n",
    "     and a['reference product'] == act['reference product']\n",
    "    ][:5], \n",
    "    ipcc,\n",
    "    output_format=\"pandas\",\n",
    ")\n",
    "df"
   ]
  },
  {
   "cell_type": "markdown",
   "id": "touched-wales",
   "metadata": {},
   "source": [
    "What is included in this result? Direct emissions are those coming from the functional unit. Then, the function goes through the supply chain of each activity, and applies a cutoff criteria. If a given input matches the cutoff criteria (either it is too deep in the supply chain, or its impact is too small), we look up that inputs CPC code, and add it to any existing inputs with the same CPC code. We can also add impacts from direct emissions of an activity, even if it doesn't meet the cutoff criteria (if we didn't do this, the shares wouldn't sum to one).\n",
    "\n",
    "As in the above functions, you can control how deep the search goes with the `max_level` and `cutoff` arguments. You can also switch from the default result type, which is fractional share of total impact, to absolute impact amounts, with the `mode` argument."
   ]
  },
  {
   "cell_type": "markdown",
   "id": "multiple-startup",
   "metadata": {},
   "source": [
    "You can also use this function to explore the supply chain of a single activity. This is helpful when databases like ecoinvent provide many similar input activities (e.g. many electricity providers); it can be helpful to group by the product classification."
   ]
  },
  {
   "cell_type": "code",
   "execution_count": null,
   "id": "sonic-spine",
   "metadata": {},
   "outputs": [],
   "source": [
    "offset_printing = bd.get_node(\n",
    "    name=\"offset printing, per kg printed paper\",\n",
    "    location='CH',\n",
    "    database=\"ei 3.8 cutoff\",\n",
    ")\n",
    "offset_printing"
   ]
  },
  {
   "cell_type": "code",
   "execution_count": null,
   "id": "automotive-welding",
   "metadata": {},
   "outputs": [],
   "source": [
    "ba.compare_activities_by_grouped_leaves(\n",
    "    [offset_printing], \n",
    "    ipcc,\n",
    "    output_format=\"html\",\n",
    ")"
   ]
  },
  {
   "cell_type": "markdown",
   "id": "third-programmer",
   "metadata": {},
   "source": [
    "In this particular instance, it was interesting for me to see the high fraction of impact coming from use of aluinium, which (probably) isn't the first thing one thinks of when considering printing."
   ]
  }
 ],
 "metadata": {
  "kernelspec": {
   "display_name": "Python 3 (ipykernel)",
   "language": "python",
   "name": "python3"
  },
  "language_info": {
   "codemirror_mode": {
    "name": "ipython",
    "version": 3
   },
   "file_extension": ".py",
   "mimetype": "text/x-python",
   "name": "python",
   "nbconvert_exporter": "python",
   "pygments_lexer": "ipython3",
   "version": "3.10.6"
  }
 },
 "nbformat": 4,
 "nbformat_minor": 5
}

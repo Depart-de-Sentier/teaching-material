{
 "cells": [
  {
   "cell_type": "code",
   "execution_count": 1,
   "id": "36d94671-b170-4428-81c4-5dc1d61c67e9",
   "metadata": {},
   "outputs": [],
   "source": [
    "import bw2data as bd\n",
    "import bw2io as bi\n",
    "import pathlib as Path"
   ]
  },
  {
   "cell_type": "code",
   "execution_count": 2,
   "id": "79fe057f-b7a8-4014-abd3-4228f7d53214",
   "metadata": {},
   "outputs": [],
   "source": [
    "NAME = \"ei38-conseq-25\""
   ]
  },
  {
   "cell_type": "code",
   "execution_count": 3,
   "id": "1e118c4c-d4fe-4cea-8ea8-719919914dd8",
   "metadata": {},
   "outputs": [],
   "source": [
    "if NAME in bd.projects:\n",
    "    bd.projects.delete_project(NAME, True)"
   ]
  },
  {
   "cell_type": "code",
   "execution_count": 4,
   "id": "ee711d00-bbc8-4322-9d8b-232cd56e838f",
   "metadata": {},
   "outputs": [],
   "source": [
    "bd.projects.set_current(NAME)"
   ]
  },
  {
   "cell_type": "code",
   "execution_count": 5,
   "id": "42d7faed-e89b-441f-996f-694a2ffc01f7",
   "metadata": {},
   "outputs": [
    {
     "name": "stderr",
     "output_type": "stream",
     "text": [
      "Writing activities to SQLite3 database:\n"
     ]
    },
    {
     "name": "stdout",
     "output_type": "stream",
     "text": [
      "Creating default biosphere\n",
      "\n",
      "Applying strategy: normalize_units\n",
      "Applying strategy: drop_unspecified_subcategories\n",
      "Applying strategy: ensure_categories_are_tuples\n",
      "Applied 3 strategies in 0.00 seconds\n"
     ]
    },
    {
     "name": "stderr",
     "output_type": "stream",
     "text": [
      "0% [##############################] 100% | ETA: 00:00:00\n",
      "Total time elapsed: 00:00:00\n"
     ]
    },
    {
     "name": "stdout",
     "output_type": "stream",
     "text": [
      "Title: Writing activities to SQLite3 database:\n",
      "  Started: 09/26/2022 14:13:37\n",
      "  Finished: 09/26/2022 14:13:37\n",
      "  Total time elapsed: 00:00:00\n",
      "  CPU %: 102.90\n",
      "  Memory %: 0.62\n",
      "Created database: biosphere3\n",
      "Creating default LCIA methods\n",
      "\n",
      "Applying strategy: normalize_units\n",
      "Applying strategy: set_biosphere_type\n",
      "Applying strategy: fix_ecoinvent_38_lcia_implementation\n",
      "Applying strategy: drop_unspecified_subcategories\n",
      "Applying strategy: link_iterable_by_fields\n",
      "Applied 5 strategies in 0.57 seconds\n",
      "Wrote 975 LCIA methods with 254388 characterization factors\n",
      "Creating core data migrations\n",
      "\n"
     ]
    }
   ],
   "source": [
    "bi.bw2setup()"
   ]
  },
  {
   "cell_type": "code",
   "execution_count": 6,
   "id": "5c27b340-ec16-45ef-be8c-dc521af0f9f2",
   "metadata": {},
   "outputs": [],
   "source": [
    "fp = \"/Users/cmutel/Documents/LCA/Ecoinvent/3.8/consequential/datasets/\""
   ]
  },
  {
   "cell_type": "code",
   "execution_count": 7,
   "id": "a2615303-6cdc-4997-8601-ea0017420e72",
   "metadata": {},
   "outputs": [
    {
     "name": "stdout",
     "output_type": "stream",
     "text": [
      "Extracting XML data from 17653 datasets\n",
      "Extracted 17653 datasets in 11.66 seconds\n",
      "Applying strategy: normalize_units\n",
      "Applying strategy: update_ecoinvent_locations\n",
      "Applying strategy: remove_zero_amount_coproducts\n",
      "Applying strategy: remove_zero_amount_inputs_with_no_activity\n",
      "Applying strategy: remove_unnamed_parameters\n",
      "Applying strategy: es2_assign_only_product_with_amount_as_reference_product\n",
      "Applying strategy: assign_single_product_as_activity\n",
      "Applying strategy: create_composite_code\n",
      "Applying strategy: drop_unspecified_subcategories\n",
      "Applying strategy: fix_ecoinvent_flows_pre35\n",
      "Applying strategy: drop_temporary_outdated_biosphere_flows\n",
      "Applying strategy: link_biosphere_by_flow_uuid\n",
      "Applying strategy: link_internal_technosphere_by_composite_code\n",
      "Applying strategy: delete_exchanges_missing_activity\n",
      "Applying strategy: delete_ghost_exchanges\n",
      "11 exchanges couldn't be linked and were deleted. See the logfile for details:\n",
      "\t/Users/cmutel/Library/Logs/Brightway3/ei38-conseq-25.7f348ff8/Ecospold2-import-error.MQ9kBV.log\n",
      "Applying strategy: remove_uncertainty_from_negative_loss_exchanges\n",
      "Applying strategy: fix_unreasonably_high_lognormal_uncertainties\n",
      "Applying strategy: set_lognormal_loc_value\n",
      "Applying strategy: convert_activity_parameters_to_list\n",
      "Applying strategy: add_cpc_classification_from_single_reference_product\n",
      "Applying strategy: delete_none_synonyms\n",
      "Applying strategy: update_social_flows_in_older_consequential\n",
      "Applied 22 strategies in 4.37 seconds\n"
     ]
    }
   ],
   "source": [
    "ei = bi.SingleOutputEcospold2Importer(fp, \"ei 3.8 conseq\")\n",
    "ei.apply_strategies()"
   ]
  },
  {
   "cell_type": "code",
   "execution_count": 8,
   "id": "138cb1ca-e1bf-4e45-9697-ec29a0929c30",
   "metadata": {},
   "outputs": [
    {
     "name": "stdout",
     "output_type": "stream",
     "text": [
      "17653 datasets\n",
      "497829 exchanges\n",
      "0 unlinked exchanges\n",
      "  \n"
     ]
    },
    {
     "data": {
      "text/plain": [
       "(17653, 497829, 0)"
      ]
     },
     "execution_count": 8,
     "metadata": {},
     "output_type": "execute_result"
    }
   ],
   "source": [
    "ei.statistics()"
   ]
  },
  {
   "cell_type": "code",
   "execution_count": 9,
   "id": "383906bf-d950-49aa-bc9a-f0fb0ccb8a9a",
   "metadata": {},
   "outputs": [
    {
     "name": "stderr",
     "output_type": "stream",
     "text": [
      "Writing activities to SQLite3 database:\n"
     ]
    },
    {
     "name": "stdout",
     "output_type": "stream",
     "text": [
      "Not able to determine geocollections for all datasets. This database is not ready for regionalization.\n"
     ]
    },
    {
     "name": "stderr",
     "output_type": "stream",
     "text": [
      "0% [##############################] 100% | ETA: 00:00:00\n",
      "Total time elapsed: 00:00:16\n"
     ]
    },
    {
     "name": "stdout",
     "output_type": "stream",
     "text": [
      "Title: Writing activities to SQLite3 database:\n",
      "  Started: 09/26/2022 14:17:37\n",
      "  Finished: 09/26/2022 14:17:54\n",
      "  Total time elapsed: 00:00:16\n",
      "  CPU %: 97.60\n",
      "  Memory %: 8.63\n",
      "Created database: ei 3.8 conseq\n"
     ]
    },
    {
     "data": {
      "text/plain": [
       "Brightway2 SQLiteBackend: ei 3.8 conseq"
      ]
     },
     "execution_count": 9,
     "metadata": {},
     "output_type": "execute_result"
    }
   ],
   "source": [
    "ei.write_database()"
   ]
  },
  {
   "cell_type": "code",
   "execution_count": 10,
   "id": "d05971e9-e604-41ae-bc6e-d9094842f303",
   "metadata": {},
   "outputs": [
    {
     "name": "stdout",
     "output_type": "stream",
     "text": [
      "Creating project backup archive - this could take a few minutes...\n"
     ]
    }
   ],
   "source": [
    "bi.backup_project_directory(NAME)"
   ]
  }
 ],
 "metadata": {
  "kernelspec": {
   "display_name": "Python 3 (ipykernel)",
   "language": "python",
   "name": "python3"
  },
  "language_info": {
   "codemirror_mode": {
    "name": "ipython",
    "version": 3
   },
   "file_extension": ".py",
   "mimetype": "text/x-python",
   "name": "python",
   "nbconvert_exporter": "python",
   "pygments_lexer": "ipython3",
   "version": "3.10.6"
  }
 },
 "nbformat": 4,
 "nbformat_minor": 5
}

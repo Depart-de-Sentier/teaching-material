{
 "cells": [
  {
   "cell_type": "markdown",
   "id": "9ea6403f-e6d5-4794-b9c8-4878df5448c9",
   "metadata": {},
   "source": [
    "# What's new in Brightway 2.5\n",
    "\n",
    "## Backwards compatibility\n",
    "\n",
    "Compatilibility with Brightway 2 has been maintained whenever possible, but there are a few cases where compatiblity could not be kept. There are noted **in bold** when they occur, and listed below:\n",
    "\n",
    "* In `bw2data`, `Database.get()` and `Database().get()` are no longer supported. Use `get_node(database=\"something\", **other_filters)` instead.\n",
    "* In `bw2calc`, the `LCA` class now takes over responsibility for all types of LCA calculations, including Monte Carlo. Depending on the type of sampling strategy desired, use `LCA(use_distributions=True)` or `LCA(use_arrays=True)` instead of `MonteCarloLCA`.\n",
    "\n",
    "Before we get started, let's install a simple database for examples:"
   ]
  },
  {
   "cell_type": "code",
   "execution_count": null,
   "id": "f4d3345f-c223-46c0-a42b-d289e136bc6d",
   "metadata": {},
   "outputs": [],
   "source": [
    "import bw2data as bd\n",
    "import bw2calc as bc\n",
    "import bw2io as bi"
   ]
  },
  {
   "cell_type": "code",
   "execution_count": null,
   "id": "88978a84-a9d8-4baa-8a44-31405907e742",
   "metadata": {},
   "outputs": [],
   "source": [
    "bd.projects.set_current(\"2.5 examples in action\")"
   ]
  },
  {
   "cell_type": "code",
   "execution_count": null,
   "id": "472d51a7-e677-4fca-bf03-33ae2b2f9413",
   "metadata": {},
   "outputs": [],
   "source": [
    "bi.add_example_database()"
   ]
  },
  {
   "cell_type": "markdown",
   "id": "ad255199-ef0d-4ae9-a1ab-50863dd42aac",
   "metadata": {},
   "source": [
    "# `bw2data`\n",
    "\n",
    "## `Node` and `Edge`\n",
    "\n",
    "In addition to `process` and `activity`, we now have `node`. Before you throw things at the wall (how many names can they come up with?), let me explain. `bw2data` uses what is essentially a graph database, with two main tables: Nodes and edges (the actual table names are `ActivityDataset` and `ExchangeDataset`). Nodes can serve as processes/activities, but are also elementary/biosphere flows, and anything else we want to store in the database (logical relationships, impact assessment, named parameters, etc). This isn't too say that you store everything in the Brightway database, but `node` is clearly a better name that `process` for e.g. CO2. Here are the node accessors:\n",
    "\n",
    "### `bw2data.get_node()`\n",
    "\n",
    "`get_node` behaves differently than `get_activity`. `get_activity` assumes an input of a Brightway key - a combination of database and code. This won't work with `get_node`:"
   ]
  },
  {
   "cell_type": "code",
   "execution_count": null,
   "id": "ceb87cee-211f-473e-9f7d-64397e39b2e5",
   "metadata": {},
   "outputs": [],
   "source": [
    "bd.get_activity(('Mobility example', 'Steel'))"
   ]
  },
  {
   "cell_type": "code",
   "execution_count": null,
   "id": "3f529a75-7d0c-42ec-a333-f9eca2fd4f06",
   "metadata": {},
   "outputs": [],
   "source": [
    "bd.get_node(key=('Mobility example', 'Steel'))"
   ]
  },
  {
   "cell_type": "markdown",
   "id": "a09553cd-2c41-4b69-a3b5-5a0c7e3644e7",
   "metadata": {},
   "source": [
    "The reason why this doesn't work is that `get_node` only looks for specific attributes of the `node` itself, not composite ones like the `key`. If you need to pass a key, use `get_activity`; otherwise, rewrite your query:"
   ]
  },
  {
   "cell_type": "code",
   "execution_count": null,
   "id": "24a0de95-a0de-4796-b885-35deb937fac1",
   "metadata": {},
   "outputs": [],
   "source": [
    "bd.get_node(database='Mobility example', code='Steel')"
   ]
  },
  {
   "cell_type": "markdown",
   "id": "c75278c6-05bf-4d52-9817-ad6e54bf2da5",
   "metadata": {},
   "source": [
    "We can also filter on other attributes, both those stored as \"core\" attributes (code, database, name, product, type, location):"
   ]
  },
  {
   "cell_type": "code",
   "execution_count": null,
   "id": "39b4b1be-58de-4e99-b84b-4626d804e352",
   "metadata": {},
   "outputs": [],
   "source": [
    "bd.get_node(name='Steel')"
   ]
  },
  {
   "cell_type": "markdown",
   "id": "dff7ebc4-c138-4c80-987b-d3fec17a4590",
   "metadata": {},
   "source": [
    "But also other arbitrary attributes:"
   ]
  },
  {
   "cell_type": "code",
   "execution_count": null,
   "id": "8410ec61-8488-4e2e-b00a-030074dc1fb1",
   "metadata": {},
   "outputs": [],
   "source": [
    "steel = bd.get_node(name='Steel')\n",
    "steel['foo'] = 'bar'\n",
    "steel.save()\n",
    "bd.get_node(foo='bar')"
   ]
  },
  {
   "cell_type": "markdown",
   "id": "e80448bc-121b-4dec-8f70-7d40053040a1",
   "metadata": {},
   "source": [
    "`get_node` will raise `bw2data.errors.UnknownObject` if not node can be found that matches the given filters, or `bw2data.errors.MultipleResults` if more than one node fits the given filters.\n",
    "\n",
    "You can also use `Database().get_node()`, it works the same way. However, **`Database.get()`** is deprecated, as this is now a [core Peewee method](https://docs.peewee-orm.com/en/latest/peewee/api.html#Model.get)."
   ]
  },
  {
   "cell_type": "markdown",
   "id": "ad0c6485-35b9-4f24-b654-290870e6aafa",
   "metadata": {},
   "source": [
    "## `get_id` and the removal of `mapping`\n",
    "\n",
    "Previously, the `mapping` object was stored as a pickle file, and linked activity/process/node *keys* to *integer ids*. This was very dumb, as we already have an indexed mapping of these objects to unique integer ids in the database itself: the primary key `id` column. `mapping` still exists, but only as a compatibility layer; instead, use `node.id` and `get_id()`:"
   ]
  },
  {
   "cell_type": "code",
   "execution_count": null,
   "id": "1b9306b1-a867-4758-9ec6-232de01fec4f",
   "metadata": {},
   "outputs": [],
   "source": [
    "steel.id"
   ]
  },
  {
   "cell_type": "code",
   "execution_count": null,
   "id": "ee28a38a-ed6f-4c6f-96f9-409e47003570",
   "metadata": {},
   "outputs": [],
   "source": [
    "bd.get_id(steel)"
   ]
  },
  {
   "cell_type": "code",
   "execution_count": null,
   "id": "0b2207fc-a619-4c9a-b1ef-44cba492eeaa",
   "metadata": {},
   "outputs": [],
   "source": [
    "bd.get_id(steel.key)"
   ]
  },
  {
   "cell_type": "code",
   "execution_count": null,
   "id": "f761171d-e19f-4f66-b20e-dde34f4f59bb",
   "metadata": {},
   "outputs": [],
   "source": [
    "bd.mapping[steel.key]"
   ]
  },
  {
   "cell_type": "code",
   "execution_count": null,
   "id": "c0777a15-7003-428a-af80-a3bd7e2ec113",
   "metadata": {},
   "outputs": [],
   "source": [
    "str(bd.mapping)"
   ]
  },
  {
   "cell_type": "markdown",
   "id": "20493231-686f-4328-8648-bb85dbc3d8c5",
   "metadata": {},
   "source": [
    "There is an important implication of removing `mapping` - it is **no longer possible to reference non-existant nodes in edges**. This was allowed previously to allow for a very high degree of flexibility, but this is no longer technically possible, nor is it reasonable, as it is much too easy to cause unintentional errors."
   ]
  },
  {
   "cell_type": "markdown",
   "id": "32ece4c1-2ecc-489b-af88-0bf5c4a46c61",
   "metadata": {},
   "source": [
    "## `bw2data` uses the database columns differently\n",
    "\n",
    "The database schema for nodes (`ActivityDataset`) is:\n",
    "\n",
    "```SQL\n",
    "CREATE TABLE \"activitydataset\" (\n",
    "    \"id\" INTEGER NOT NULL PRIMARY KEY, \n",
    "    \"data\" BLOB NOT NULL, \n",
    "    \"code\" TEXT NOT NULL, \n",
    "    \"database\" TEXT NOT NULL, \n",
    "    \"location\" TEXT, \n",
    "    \"name\" TEXT, \n",
    "    \"product\" TEXT, \n",
    "    \"type\" TEXT\n",
    ")\n",
    "```\n",
    "\n",
    "Previously, when loading or saving rows to this table, all data including `code`, `database`, `location`, `name`, `product`, and `type` was serialized to the `data` blob as a [pickle](https://docs.python.org/3/library/pickle.html).This made loading the Brightway objects easy, but it effectively made the other columns read-only - changes made to database directly were not propogated when loading Brightway objects. This is now changed, we use the values in the database columns, so you can use them directly:"
   ]
  },
  {
   "cell_type": "code",
   "execution_count": null,
   "id": "88651b6d-713d-4b59-b505-21f23ec749eb",
   "metadata": {},
   "outputs": [],
   "source": [
    "from bw2data.backends import ActivityDataset as AD"
   ]
  },
  {
   "cell_type": "code",
   "execution_count": null,
   "id": "9266328e-7fcf-4480-9971-d31f61dc4565",
   "metadata": {},
   "outputs": [],
   "source": [
    "AD.update(name=\"Wow, this is some car!\").where(AD.name == 'Combustion car').execute()"
   ]
  },
  {
   "cell_type": "code",
   "execution_count": null,
   "id": "fdb1fe6f-1e0b-48a5-9881-76f574350ebc",
   "metadata": {},
   "outputs": [],
   "source": [
    "bd.get_node(code=\"Steel\")"
   ]
  },
  {
   "cell_type": "markdown",
   "id": "7ed21b7d-aa32-4d60-a8d4-59af7d05e982",
   "metadata": {},
   "source": [
    "Why should you care?\n",
    "\n",
    "For one thing, in Brightway 3, there will no longer be an `ActivityDataset` and a separate `Activity` class; rather, they will be unified, and we will be able to use [peewee](https://docs.peewee-orm.com/en/latest/index.html) query methods natively. This won't necessarily be easier in all cases, but will expose more functionality, and will use less magic to hide the underlying database schema, which is better hygiene in the long run.\n",
    "\n",
    "But learning to write SQL is also a good idea in itself - it is a different way of think about data, and things like bulk updates are always nice (unless they go wrong 😛)."
   ]
  },
  {
   "cell_type": "markdown",
   "id": "0ee236ec-f2c5-4969-a24e-c4c8d9233f39",
   "metadata": {},
   "source": [
    "## More powerful `Activity` attribute lookups\n",
    "\n",
    "Some `Activity` objects for things like industry or product classifications, or properties like price or carbon content, but these can be awkward to retrieve:"
   ]
  },
  {
   "cell_type": "code",
   "execution_count": null,
   "id": "e605042a-acf0-410f-a5f9-45cacb95f570",
   "metadata": {},
   "outputs": [],
   "source": [
    "steel = bd.get_node(name='Steel')\n",
    "steel['properties'] = {'carbon content': {'amount': 0.01}}\n",
    "steel['classifications'] = {'ISIC': {'code': '2410', 'system': 'ISIC Rev. 4'}}\n",
    "steel.save()"
   ]
  },
  {
   "cell_type": "code",
   "execution_count": null,
   "id": "61735651-284c-492d-af60-9f077b32bac1",
   "metadata": {},
   "outputs": [],
   "source": [
    "[value for key, value in steel['properties'].items() if key == 'carbon content']"
   ]
  },
  {
   "cell_type": "markdown",
   "id": "08b8eb2b-0ec3-48cd-a5fe-a3e535fe607c",
   "metadata": {},
   "source": [
    "Instead, we can now just do:"
   ]
  },
  {
   "cell_type": "code",
   "execution_count": null,
   "id": "62204845-7ca9-48c0-bfa4-6fbee050f464",
   "metadata": {},
   "outputs": [],
   "source": [
    "steel['carbon content']"
   ]
  },
  {
   "cell_type": "code",
   "execution_count": null,
   "id": "f8449bf3-0e54-4909-b971-6f970288d597",
   "metadata": {},
   "outputs": [],
   "source": [
    "steel['ISIC']"
   ]
  },
  {
   "cell_type": "markdown",
   "id": "cfddc5f2-1990-4c3a-b8c2-aeca073cf8a0",
   "metadata": {},
   "source": [
    "Please note the following:\n",
    "\n",
    "* `classifications` are looked up before `properties`.\n",
    "* Looking up normal attributes (even arbitrary ones) happens before traversing the `classifications` and `properties`."
   ]
  },
  {
   "cell_type": "markdown",
   "id": "56134377-d1d8-462d-acea-01d837e1c7be",
   "metadata": {},
   "source": [
    "## Easier access to reference products\n",
    "\n",
    "If you have a suitably formatted activity, you can do:"
   ]
  },
  {
   "cell_type": "code",
   "execution_count": null,
   "id": "38b7320c-e995-4d9f-8b2b-65e2ecf05b47",
   "metadata": {},
   "outputs": [],
   "source": [
    "steel.rp_exchange()"
   ]
  },
  {
   "cell_type": "markdown",
   "id": "bd61f2ab-449f-4750-ba92-daa74b13ce98",
   "metadata": {},
   "source": [
    "This works by looking through all exchanges with the type `production`; if there is only one, that is returned; otherwise, return the exchange whose input name is the same as the node's `reference product`. Raises `ValueError` is no suitable exchange is found.\n",
    "\n",
    "We can also look up attributes of the reference product exchange:"
   ]
  },
  {
   "cell_type": "code",
   "execution_count": null,
   "id": "41076a12-2e0c-411e-8546-ef42e304de3c",
   "metadata": {},
   "outputs": [],
   "source": [
    "exc = steel.rp_exchange()\n",
    "exc['properties'] = {'iron content': 0.98}\n",
    "exc.save()"
   ]
  },
  {
   "cell_type": "code",
   "execution_count": null,
   "id": "8813ff6f-73f0-4c4a-a1d0-2823d80d0a32",
   "metadata": {},
   "outputs": [],
   "source": [
    "steel['iron content']"
   ]
  },
  {
   "cell_type": "markdown",
   "id": "78edc854-39e6-4da2-9856-b1292ef7e9d7",
   "metadata": {},
   "source": [
    "This lookup occurs after the `classifications` and `properties` of the node itself."
   ]
  },
  {
   "cell_type": "markdown",
   "id": "70b4a389-e560-48f9-a4e2-61d6a1e0791a",
   "metadata": {},
   "source": [
    "## Easier data cleanup\n",
    "\n",
    "If you are building inventories manually, it is easy to accidentally add an exchange too many times:"
   ]
  },
  {
   "cell_type": "code",
   "execution_count": null,
   "id": "4c184629-8274-4a89-b52f-5a678d1e9235",
   "metadata": {},
   "outputs": [],
   "source": [
    "steel, co2 = bd.get_node(name=\"Steel\"), bd.get_node(name=\"CO2\")\n",
    "\n",
    "for _ in range(10):\n",
    "    steel.new_edge(input=co2, amount=1.5, type=\"biosphere\").save()"
   ]
  },
  {
   "cell_type": "markdown",
   "id": "d6d84d4c-6379-43de-951e-8b89995c08cf",
   "metadata": {},
   "source": [
    "We can now easily clean up these duplicates:"
   ]
  },
  {
   "cell_type": "code",
   "execution_count": null,
   "id": "afe09bf4-4c4d-4fa6-9321-9af6624ba24d",
   "metadata": {},
   "outputs": [],
   "source": [
    "bd.Database('Mobility example').delete_duplicate_exchanges()"
   ]
  },
  {
   "cell_type": "code",
   "execution_count": null,
   "id": "460b2e63-b652-42a0-99ee-e6096c0142ce",
   "metadata": {},
   "outputs": [],
   "source": [
    "for exc in steel.biosphere():\n",
    "    print(exc)"
   ]
  },
  {
   "cell_type": "markdown",
   "id": "c45ca7f2-e8e3-4971-9716-70b7dd24a334",
   "metadata": {},
   "source": [
    "As always, best practice is to always have a completely reproducible workflow, so that if things get messed up you can delete everything and regenerate the data from scratch!"
   ]
  },
  {
   "cell_type": "markdown",
   "id": "0c3304ea-c2ad-49af-b6f9-d58f082e6ef7",
   "metadata": {},
   "source": [
    "## Filepaths are instances of `pathlib.Path`\n",
    "\n",
    "`Path` objects are [pretty great](https://treyhunner.com/2018/12/why-you-should-be-using-pathlib/), you should [use them](https://docs.python.org/3/library/pathlib.html)."
   ]
  },
  {
   "cell_type": "code",
   "execution_count": null,
   "id": "9528def7-5260-4ba7-9b36-6fd4b9d01551",
   "metadata": {},
   "outputs": [],
   "source": [
    "type(bd.projects.dir), type(bd.projects.logs_dir)"
   ]
  },
  {
   "cell_type": "code",
   "execution_count": null,
   "id": "4bf20036-3544-499b-9589-e1ef0032bd65",
   "metadata": {},
   "outputs": [],
   "source": [
    "type(bd.Database('Mobility example').dirpath_processed()), type(bd.Database('Mobility example').filepath_processed())"
   ]
  },
  {
   "cell_type": "markdown",
   "id": "62231350-4511-4ccb-9222-b14e59a6351f",
   "metadata": {},
   "source": [
    "## Easier access to `Datapackages`\n",
    "\n",
    "Brightway `Datapackages` are a replacement for the previous processed arrays. They bring a range of new functionality, including the ability to be stored on many different kinds of physical or virtual filesystems using [PyFilesystem](https://docs.pyfilesystem.org/en/latest/). But this means that loading them requires the specification of a filesystem, which can be extra code, and a pain if you don't remember the exact command. Instead, you can use:"
   ]
  },
  {
   "cell_type": "code",
   "execution_count": null,
   "id": "991ca2f0-913d-4ac1-a7f2-7f36646d0a89",
   "metadata": {},
   "outputs": [],
   "source": [
    "bd.Database('Mobility example').datapackage()"
   ]
  },
  {
   "cell_type": "markdown",
   "id": "b3c705f9-6a36-4757-ad68-5443d09834c5",
   "metadata": {},
   "source": [
    "Note that, in combination with the above, local PyFilesystem `OSFS` objects [**need a string, not a `Path`**](https://github.com/PyFilesystem/pyfilesystem2/issues/238)."
   ]
  },
  {
   "cell_type": "markdown",
   "id": "c83d2655-37b7-47b2-bfd7-39c4f97e19bf",
   "metadata": {},
   "source": [
    "## IOTable improvements\n",
    "\n",
    "This is being rewritten in the `file-remover-progressive` branch, so will be demonstrated instead of provided as an example."
   ]
  },
  {
   "cell_type": "markdown",
   "id": "a08c169b-9e6c-42a9-a136-fdf2146d24b3",
   "metadata": {},
   "source": [
    "## Brightway ❤️ Pandas\n",
    "\n",
    "The previous mix of functions for importing some data to dataframes have been replaced with a common set of methods which work with both `bw2data` and `bw2calc`.\n",
    "\n",
    "They also work with IOTables."
   ]
  },
  {
   "cell_type": "markdown",
   "id": "57b49cfd-a4a0-4e90-8352-7b7c79ad2258",
   "metadata": {},
   "source": [
    "Utility function to get the US EEIO and its LCIA methods easily. This has its own biosphere flows, so we don't run `bw2setup`."
   ]
  },
  {
   "cell_type": "code",
   "execution_count": null,
   "id": "b34a8f17-0e42-4ef6-8228-45ef6e13cf9c",
   "metadata": {},
   "outputs": [],
   "source": [
    "bi.useeio11()"
   ]
  },
  {
   "cell_type": "markdown",
   "id": "77f4db6d-60d4-43de-88fe-f509fb82c6aa",
   "metadata": {},
   "source": [
    "Pick a product and an activity node at random."
   ]
  },
  {
   "cell_type": "code",
   "execution_count": null,
   "id": "9f3b5c56-c8a3-476e-bb1d-a809ff82ac34",
   "metadata": {},
   "outputs": [],
   "source": [
    "product = next(node for node in bd.Database(\"US EEIO 1.1\") if node['type'] == 'product')\n",
    "activity = next(node for node in bd.Database(\"US EEIO 1.1\") if node['type'] == 'process')\n",
    "product, activity"
   ]
  },
  {
   "cell_type": "markdown",
   "id": "420f7872-ddef-4d2a-a0a6-9547a9ff40d4",
   "metadata": {},
   "source": [
    "The first dataframe is all the nodes (processes or activities) in the given database:"
   ]
  },
  {
   "cell_type": "code",
   "execution_count": null,
   "id": "294ac408-2f0d-4668-8399-2691b380f66b",
   "metadata": {},
   "outputs": [],
   "source": [
    "df = bd.Database(\"US EEIO 1.1\").nodes_to_dataframe()\n",
    "df"
   ]
  },
  {
   "cell_type": "markdown",
   "id": "2bfcf0a2-41f8-4214-9dd3-0c5fbb0e5cd1",
   "metadata": {},
   "source": [
    "The columns come from the data attributes stored on the nodes. If one node has the attribute, it is added as a column. You can control which columns get returned, and how they are sorted, see the docstring.\n",
    "\n",
    "This is a normal dataframe, so you can filter it, add or remove columns, and sort as desired."
   ]
  },
  {
   "cell_type": "code",
   "execution_count": null,
   "id": "e4555a7a-2010-485f-a721-838c096cc7ce",
   "metadata": {},
   "outputs": [],
   "source": [
    "df.columns"
   ]
  },
  {
   "cell_type": "markdown",
   "id": "c5afe851-c10a-4104-96f0-876900390fbd",
   "metadata": {},
   "source": [
    "We can also list all the edges (exchanges) as a dataframe. This is normally too much information, and can take a bit of time to produce, but can be useful."
   ]
  },
  {
   "cell_type": "code",
   "execution_count": null,
   "id": "f48b0923-f138-4495-bbb7-481b73476ac8",
   "metadata": {},
   "outputs": [],
   "source": [
    "df = bd.Database(\"US EEIO 1.1\").edges_to_dataframe()\n",
    "df"
   ]
  },
  {
   "cell_type": "markdown",
   "id": "63018007-afe3-40b4-86d2-75dff64fde20",
   "metadata": {},
   "source": [
    "Now we have standard column labels. as these are directed edges, they have a source and a target. Most of the columns should be self-explanatory. Note that we differentiate between `'target_reference_product'` and `'source_product'`, and only provide the `categories` on the `source`."
   ]
  },
  {
   "cell_type": "code",
   "execution_count": null,
   "id": "5c81bae6-a731-45c3-be51-bcfba5edf001",
   "metadata": {},
   "outputs": [],
   "source": [
    "df.columns"
   ]
  },
  {
   "cell_type": "markdown",
   "id": "87077e45-716d-46de-ab0b-4907843e2902",
   "metadata": {},
   "source": [
    "If you want to add or remove columns, you can pass in an iterable of formatting functions. These functions must satisfy the following rules:\n",
    "\n",
    "* The take the keyword arguments `node`, `edge`, and `row`.\n",
    "* They modify the dictionary `row` in place. Any return value is ignored.\n",
    "* `node` and `edge` are dictionaries following the [wurst internal format](https://wurst.readthedocs.io/#internal-data-format). `node` is the target, and `edge` is both attributes of the edge and of the source.\n",
    "\n",
    "Here is a simple example:"
   ]
  },
  {
   "cell_type": "code",
   "execution_count": null,
   "id": "e789bcd1-c784-4cad-98f3-dada6e01b44b",
   "metadata": {},
   "outputs": [],
   "source": [
    "def remove_target_database(node, edge, row):\n",
    "    del row['target_database']\n",
    "    \n",
    "def food_sector(node, edge, row):\n",
    "    row['is_food'] = 'food' in edge['name'].lower()"
   ]
  },
  {
   "cell_type": "code",
   "execution_count": null,
   "id": "c21f9a18-d2d1-4094-aa20-8dcfc7890bb0",
   "metadata": {},
   "outputs": [],
   "source": [
    "df = bd.Database(\"US EEIO 1.1\").edges_to_dataframe(formatters=[remove_target_database, food_sector])\n",
    "df"
   ]
  },
  {
   "cell_type": "markdown",
   "id": "ce983ab3-9d36-4222-928b-22d4db53ecb0",
   "metadata": {},
   "source": [
    "In the case of `target_name`, the dataframe has more than 150.000 rows, but only 388 unique values.\n",
    "\n",
    "You can skip the conversion to categorical columns by passing `categorical=False`."
   ]
  },
  {
   "cell_type": "markdown",
   "id": "c6e7f6a7-147b-477a-a005-0c329496e6e6",
   "metadata": {},
   "source": [
    "To save on memory, we turn some columns into categorical columns, where each unique value is only stored once."
   ]
  },
  {
   "cell_type": "code",
   "execution_count": null,
   "id": "5d72828e-537d-40a6-a1b9-4b0ffd94ea80",
   "metadata": {},
   "outputs": [],
   "source": [
    "df.dtypes"
   ]
  },
  {
   "cell_type": "code",
   "execution_count": null,
   "id": "ebcbb0dc-5912-424b-8ffb-150e6c40ad39",
   "metadata": {},
   "outputs": [],
   "source": [
    "df['target_name']"
   ]
  },
  {
   "cell_type": "markdown",
   "id": "1d05a256-ddba-414e-a70a-1810709c70f0",
   "metadata": {},
   "source": [
    "We can also get a dataframe of the edges for a specific node. Here we get all edges, but you can filter this further with the edge constructors `.production()`, `.technosphere()`, and `.biosphere()`."
   ]
  },
  {
   "cell_type": "code",
   "execution_count": null,
   "id": "6d6b7ed9-607d-4be5-8a47-5534a858e3a5",
   "metadata": {},
   "outputs": [],
   "source": [
    "df = activity.exchanges().to_dataframe()\n",
    "df"
   ]
  },
  {
   "cell_type": "markdown",
   "id": "abfc0a1b-444b-4e30-857a-edf377536d79",
   "metadata": {},
   "source": [
    "Same columns as before."
   ]
  },
  {
   "cell_type": "code",
   "execution_count": null,
   "id": "0e8f4dec-0038-431a-82fa-98220aff4588",
   "metadata": {},
   "outputs": [],
   "source": [
    "df.columns"
   ]
  },
  {
   "cell_type": "markdown",
   "id": "67caa39d-8589-4485-a71a-633df8b0a0a5",
   "metadata": {},
   "source": [
    "We can also get dataframes for LCA calculation results."
   ]
  },
  {
   "cell_type": "code",
   "execution_count": null,
   "id": "19035b3f-03b5-45e8-aaf4-59b7c3891d7d",
   "metadata": {},
   "outputs": [],
   "source": [
    "lca = bc.LCA({product: 1}, method=('Impact Potential', 'HRSP'))\n",
    "lca.lci()\n",
    "lca.lcia()"
   ]
  },
  {
   "cell_type": "markdown",
   "id": "642003d5-dbec-4297-bbe1-7fd321bf633e",
   "metadata": {},
   "source": [
    "By default, this method looks at the `characterized_inventory` matrix, and sorts by the top 200 values (using absolute value)."
   ]
  },
  {
   "cell_type": "code",
   "execution_count": null,
   "id": "201937d0-6f99-4022-ac2d-2d636ad68507",
   "metadata": {},
   "outputs": [],
   "source": [
    "df = lca.to_dataframe()\n",
    "df"
   ]
  },
  {
   "cell_type": "markdown",
   "id": "feeffc60-d126-417b-b2d9-ce47741846f0",
   "metadata": {},
   "source": [
    "The columns labels are a bit different, as we don't have target and source but instead matrix rows and columns. The meaning of these rows and columns changes from matrix to matrix. The same pattern with `'row_product'`, `'col_reference_product'`, and `'row_categories'` applies though."
   ]
  },
  {
   "cell_type": "code",
   "execution_count": null,
   "id": "098fe13f-f915-4150-9e25-b49517427a2e",
   "metadata": {},
   "outputs": [],
   "source": [
    "df.columns"
   ]
  },
  {
   "cell_type": "markdown",
   "id": "3777ca0d-7f07-4228-8fd8-287ee0cd9f5b",
   "metadata": {},
   "source": [
    "We can get dataframes for any matrix. In standard LCA, the matrices are:\n",
    "\n",
    "* inventory\n",
    "* technosphere_matrix\n",
    "* biosphere_matrix\n",
    "* characterization_matrix\n",
    "* characterized_inventory\n",
    "\n",
    "Regionalization adds more matrices. Note that for other matrices you will need to specify the row and column mapping dictionaries, see the docstring."
   ]
  },
  {
   "cell_type": "code",
   "execution_count": null,
   "id": "8044958c-bb8d-4db6-9cdb-e8b0d4608edb",
   "metadata": {},
   "outputs": [],
   "source": [
    "lca.to_dataframe(matrix_label='biosphere_matrix')"
   ]
  },
  {
   "cell_type": "markdown",
   "id": "fc2ae71b-9f9b-49c8-b105-90dbbded9d11",
   "metadata": {},
   "source": [
    "# bw2calc\n",
    "\n",
    "## Specify `data_objs` and new functional unit\n",
    "\n",
    "The biggest change in Brightway 2.5 is the use of [bw_processing](https://github.com/brightway-lca/bw_processing) and [matrix_utils](https://github.com/brightway-lca/matrix_utils), which in turn lead to a new calling convention for LCA class instantiation. These new libraries allow for calculations to be shipped off to cloud servers, which means that they have no connection to `bw2data` or metadata about the meaning of any ID values - instead, they only solve linear problems.\n",
    "\n",
    "The new calling convention is therefore functional unit **with the IDs for the nodes** and **datapackages as `data_objs`**. Here is an example:"
   ]
  },
  {
   "cell_type": "code",
   "execution_count": null,
   "id": "124e3f77-ad95-48d1-a065-2dfc131e3d42",
   "metadata": {},
   "outputs": [],
   "source": [
    "product = next(node for node in bd.Database(\"US EEIO 1.1\") if node['type'] == 'product')\n",
    "product"
   ]
  },
  {
   "cell_type": "code",
   "execution_count": null,
   "id": "aa526faa-835a-4bea-9da4-7765510122ed",
   "metadata": {},
   "outputs": [],
   "source": [
    "database_dp = bd.Database(\"US EEIO 1.1\").datapackage()\n",
    "lcia_dp = bd.Method(('Impact Potential', 'HC')).datapackage()"
   ]
  },
  {
   "cell_type": "code",
   "execution_count": null,
   "id": "85afb641-bcdc-41fd-8834-a406a6fc2ffa",
   "metadata": {},
   "outputs": [],
   "source": [
    "lca = bc.LCA({product.id: 1}, data_objs=[database_dp, lcia_dp])\n",
    "lca.lci()\n",
    "lca.lcia()"
   ]
  },
  {
   "cell_type": "code",
   "execution_count": null,
   "id": "5410e7d4-aaaa-45ea-811a-cd3705ba1513",
   "metadata": {},
   "outputs": [],
   "source": [
    "lca.score"
   ]
  },
  {
   "cell_type": "markdown",
   "id": "bfadaeab-49cb-443f-a822-56d823a9a5c1",
   "metadata": {},
   "source": [
    "The old calling convention will still work, but only if you have `bw2data` installed, the correct project selected, etc."
   ]
  },
  {
   "cell_type": "markdown",
   "id": "30bf2f82-0d4b-416a-82fe-d99639aa4bb8",
   "metadata": {},
   "source": [
    "## `bw2data.prepare_lca_inputs`\n",
    "\n",
    "If you don't want to remember the new calling convention, you can use a helper function: `bw2data.prepare_lca_inputs`. It will return three things: A new demand dictionary, the datapackages, and (if `remapping=True`, the default) dictionaries to allow you to map matrix indices back to Brightway (database, code) keys."
   ]
  },
  {
   "cell_type": "code",
   "execution_count": null,
   "id": "56f8ad0d-4b89-41c6-9210-e49f07586092",
   "metadata": {},
   "outputs": [],
   "source": [
    "fu, dps, remapping = bd.prepare_lca_inputs({bd.get_node(name='Steel'): 1}, ('IPCC', 'simple'))"
   ]
  },
  {
   "cell_type": "code",
   "execution_count": null,
   "id": "59370fd9-c6e1-48d2-90b9-9225d205fba5",
   "metadata": {},
   "outputs": [],
   "source": [
    "fu"
   ]
  },
  {
   "cell_type": "code",
   "execution_count": null,
   "id": "e6fe0a6d-0c7f-4280-b406-429958439fa2",
   "metadata": {},
   "outputs": [],
   "source": [
    "dps"
   ]
  },
  {
   "cell_type": "code",
   "execution_count": null,
   "id": "b5bf4697-a874-498c-9861-5fbf74e32696",
   "metadata": {},
   "outputs": [],
   "source": [
    "remapping"
   ]
  },
  {
   "cell_type": "markdown",
   "id": "b44b1539-ff6d-404c-a984-3e32e011d444",
   "metadata": {},
   "source": [
    "## No automatic remapping\n",
    "\n",
    "Previously, `bw2calc.LCA` would automatically change the integer values given in `bw2data.mapping` to keys. This is no longer the case, as we assume normal behaviour in the future is to prefer node IDs to keys, and also don't have any guarantees on whether `bw2data` is available. Therefore, **you need to call LCA.remap_inventory_dicts() manually**."
   ]
  },
  {
   "cell_type": "code",
   "execution_count": null,
   "id": "008bc910-bf1a-45f1-bf5e-12ddd0c01db4",
   "metadata": {},
   "outputs": [],
   "source": [
    "lca = bc.LCA(demand=fu, data_objs=dps, remapping_dicts=remapping)\n",
    "lca.lci()\n",
    "lca.lcia()\n",
    "lca.demand"
   ]
  },
  {
   "cell_type": "code",
   "execution_count": null,
   "id": "e686f32f-9e6a-48e1-a0b9-03a1307e4484",
   "metadata": {},
   "outputs": [],
   "source": [
    "lca.dicts.product[bd.get_node(name='Steel').id]"
   ]
  },
  {
   "cell_type": "code",
   "execution_count": null,
   "id": "bb677f9d-3481-450f-9063-81f93be1044e",
   "metadata": {},
   "outputs": [],
   "source": [
    "lca.remap_inventory_dicts()"
   ]
  },
  {
   "cell_type": "code",
   "execution_count": null,
   "id": "8cc11aff-9d63-425b-860a-4614786bc147",
   "metadata": {},
   "outputs": [],
   "source": [
    "lca.demand"
   ]
  },
  {
   "cell_type": "code",
   "execution_count": null,
   "id": "52faa39e-e029-4a0f-93fa-ff0d301a9cca",
   "metadata": {},
   "outputs": [],
   "source": [
    "lca.dicts.product[bd.get_node(name='Steel').key]"
   ]
  },
  {
   "cell_type": "code",
   "execution_count": null,
   "id": "8b06f189-458a-4578-9045-ec84de0b1e0b",
   "metadata": {},
   "outputs": [],
   "source": [
    "list(bd.Database(\"Mobility example\"))"
   ]
  },
  {
   "cell_type": "markdown",
   "id": "651274c3-7536-4aa1-baa3-28a93420a884",
   "metadata": {},
   "source": [
    "## `.redo_lci` ➡️ `.lci`, `.redo_lcia` ➡️ `.lcia`\n",
    "\n",
    "The preferred way to do additional LCI or LCIA calculations has changed, and has been simplified to the same way we do an initial caluculation, namely with `.lci(new_demand_dict)` and `.lcia(new_demand_dict)`."
   ]
  },
  {
   "cell_type": "code",
   "execution_count": null,
   "id": "55e4e73b-bf4b-4fe7-9660-2c74d3b45311",
   "metadata": {},
   "outputs": [],
   "source": [
    "lca = bc.LCA(demand=fu, data_objs=dps)\n",
    "lca.lci()\n",
    "lca.lcia()\n",
    "\n",
    "for act in [\n",
    "    bd.get_node(name='Driving an combustion car'),\n",
    "    bd.get_node(name='Driving an electric car'), \n",
    "]:\n",
    "    lca.lcia({act.id: 1})\n",
    "    print(lca.score, act)"
   ]
  },
  {
   "cell_type": "markdown",
   "id": "6b693e69-dab8-469b-8732-b5894ab2e825",
   "metadata": {},
   "source": [
    "Note the following **important condition**: The functional unit must be specified either as integer IDs (see above), or as Brightway (database, code) keys *if you have run `remap_inventory_dicts()`*. The software will help you as much as possible:"
   ]
  },
  {
   "cell_type": "code",
   "execution_count": null,
   "id": "4d61d811-79b4-49b5-833e-cac4abed66dc",
   "metadata": {},
   "outputs": [],
   "source": [
    "lca.lcia({bd.get_node(name='Driving an combustion car').key: 1})"
   ]
  },
  {
   "cell_type": "markdown",
   "id": "a6d7fc74-41ac-47fc-9f50-37640fe00608",
   "metadata": {},
   "source": [
    "## `LCA` object can now do Monte Carlo\n",
    "\n",
    "There is now no longer a separate Monte Carlo class, as the sampling of values has moved to `matrix_utils` as is more generic than before - we don't need to assume that people only have probability distribution functions, but are open to many more types of quantitative uncertainty or scenarios.\n",
    "\n",
    "Therefore, calls to `MonteCarloLCA` need to **change to `LCA(..., use_distributions=True)`**, and you can use the normal `.lci()` and `.lcia()` functions."
   ]
  },
  {
   "cell_type": "code",
   "execution_count": null,
   "id": "e0cba472-d928-4ddb-a7c1-6317795cafc5",
   "metadata": {},
   "outputs": [],
   "source": [
    "ipcc = bd.Method(('IPCC', 'uncertain'))\n",
    "ipcc.register()\n",
    "ipcc.write([(('Mobility example', 'CO2'), {'uncertainty_type': 3, 'amount': 1, 'loc': 1, 'scale': 0.1})])"
   ]
  },
  {
   "cell_type": "code",
   "execution_count": null,
   "id": "41aab3f1-c40d-4647-9c96-4bed50a418a8",
   "metadata": {},
   "outputs": [],
   "source": [
    "lca = bc.LCA(\n",
    "    demand={bd.get_node(name='Driving an electric car'): 1}, \n",
    "    method=('IPCC', 'uncertain'),\n",
    "    use_distributions=True\n",
    ")\n",
    "lca.lci()\n",
    "lca.lcia()\n",
    "\n",
    "for _ in zip(range(10), lca):\n",
    "    print(lca.score)"
   ]
  },
  {
   "cell_type": "markdown",
   "id": "9018d1b4-77d0-41d0-b46d-8eb619f67291",
   "metadata": {},
   "source": [
    "### `keep_first_iteration`\n",
    "\n",
    "Sometimes you want to keep the values sampled when you set up the LCA object, instead of getting the next value in a sequence when you start iterating over Monte Carlo results. In this case, just call `.keep_first_iteration` and it will skip the first iteration step."
   ]
  },
  {
   "cell_type": "code",
   "execution_count": null,
   "id": "fc94b3fb-645f-44ed-b3fc-e3a0d2ae4d9d",
   "metadata": {},
   "outputs": [],
   "source": [
    "lca = bc.LCA(\n",
    "    demand={bd.get_node(name='Driving an electric car'): 1}, \n",
    "    method=('IPCC', 'uncertain'),\n",
    "    use_distributions=True\n",
    ")\n",
    "lca.lci()\n",
    "lca.lcia()\n",
    "lca.keep_first_iteration()\n",
    "print(\"Score after setup:\", lca.score)\n",
    "\n",
    "for _ in zip(range(4), lca):\n",
    "    print(\"In loop:\", lca.score)"
   ]
  },
  {
   "cell_type": "markdown",
   "id": "750c99cb-ce90-4972-8ddd-3193f571579d",
   "metadata": {},
   "source": [
    "## New `.dicts` accessor\n",
    "\n",
    "The old methods still work (well, they will in the next dev release :), but the preferred way is to do the following:"
   ]
  },
  {
   "cell_type": "code",
   "execution_count": null,
   "id": "345c1389-d8da-4155-a20f-5612755b82bc",
   "metadata": {},
   "outputs": [],
   "source": [
    "product = next(node for node in bd.Database(\"US EEIO 1.1\") if node['type'] == 'product')\n",
    "activity = next(node for node in bd.Database(\"US EEIO 1.1\") if node['type'] == 'process')\n",
    "emission = next(node for node in bd.Database(\"US EEIO 1.1\") if node['type'] == 'emission')"
   ]
  },
  {
   "cell_type": "code",
   "execution_count": null,
   "id": "d3f1fb5f-3fd9-4b63-84ef-90bd3bc11b7c",
   "metadata": {},
   "outputs": [],
   "source": [
    "lca = bc.LCA({product: 1})\n",
    "lca.lci()"
   ]
  },
  {
   "cell_type": "markdown",
   "id": "8ad98e44-9a53-46d0-87b2-e03e0fbd8e70",
   "metadata": {},
   "source": [
    "To matrix index:"
   ]
  },
  {
   "cell_type": "code",
   "execution_count": null,
   "id": "59a99220-5ff4-4e3c-bad6-20fda9e5d405",
   "metadata": {},
   "outputs": [],
   "source": [
    "act_matrix = lca.dicts.activity[activity.id]\n",
    "act_matrix"
   ]
  },
  {
   "cell_type": "markdown",
   "id": "fe524789-9eaa-4c52-948e-a0d517de1191",
   "metadata": {},
   "source": [
    "To database ID:"
   ]
  },
  {
   "cell_type": "code",
   "execution_count": null,
   "id": "81dc1579-5831-489d-ba06-2d1e39b71277",
   "metadata": {},
   "outputs": [],
   "source": [
    "lca.dicts.activity.reversed[act_matrix], activity.id"
   ]
  },
  {
   "cell_type": "markdown",
   "id": "a75bda9b-116a-408d-af08-e2af61178ab1",
   "metadata": {},
   "source": [
    "And the same for products and biosphere flows:"
   ]
  },
  {
   "cell_type": "code",
   "execution_count": null,
   "id": "631bb320-5f2b-4ecc-a579-0d2c3f9abdd1",
   "metadata": {},
   "outputs": [],
   "source": [
    "lca.dicts.product[product.id], lca.dicts.biosphere[emission.id]"
   ]
  }
 ],
 "metadata": {
  "kernelspec": {
   "display_name": "Python 3 (ipykernel)",
   "language": "python",
   "name": "python3"
  },
  "language_info": {
   "codemirror_mode": {
    "name": "ipython",
    "version": 3
   },
   "file_extension": ".py",
   "mimetype": "text/x-python",
   "name": "python",
   "nbconvert_exporter": "python",
   "pygments_lexer": "ipython3",
   "version": "3.10.6"
  }
 },
 "nbformat": 4,
 "nbformat_minor": 5
}
